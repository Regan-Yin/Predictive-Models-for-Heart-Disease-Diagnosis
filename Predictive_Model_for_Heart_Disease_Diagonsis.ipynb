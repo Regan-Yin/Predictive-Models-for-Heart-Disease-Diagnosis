{
 "cells": [
  {
   "cell_type": "code",
   "execution_count": null,
   "metadata": {
    "id": "KR5q2d-KNu76"
   },
   "outputs": [],
   "source": [
    "# import packages\n",
    "import pandas as pd\n",
    "import numpy as np\n",
    "\n",
    "# import Decision Tree classifier model, Multinomial Naive Bayes model, Logistic Regression classifier model, k-nearest Neighbors classifier model from sklearn\n",
    "from sklearn.tree import DecisionTreeClassifier\n",
    "from sklearn.linear_model import LogisticRegression\n",
    "from sklearn.naive_bayes import MultinomialNB\n",
    "from sklearn.neighbors import KNeighborsClassifier\n",
    "\n",
    "# import functions\n",
    "from sklearn.model_selection import GridSearchCV\n",
    "from sklearn.model_selection import cross_val_predict\n",
    "from sklearn.model_selection import cross_val_score\n",
    "from sklearn.model_selection import train_test_split\n",
    "\n",
    "# import evaluation tools\n",
    "from sklearn.metrics import accuracy_score\n",
    "from sklearn.metrics import make_scorer, roc_auc_score\n",
    "from sklearn.metrics import recall_score,precision_score\n",
    "from sklearn.metrics import precision_recall_curve\n",
    "from sklearn.metrics import confusion_matrix\n",
    "from sklearn.metrics import roc_curve\n",
    "from sklearn.metrics import mean_absolute_error\n",
    "from sklearn.metrics import auc\n",
    "\n",
    "# import libraries to create plots and visualizations\n",
    "import matplotlib.pyplot as plt\n",
    "%matplotlib inline\n",
    "import seaborn as sns"
   ]
  },
  {
   "cell_type": "markdown",
   "metadata": {
    "id": "nbXdGwTkNu77"
   },
   "source": [
    "# Data Preparation"
   ]
  },
  {
   "cell_type": "markdown",
   "metadata": {
    "id": "74SMvPpSNu78"
   },
   "source": [
    "## Data Understanding"
   ]
  },
  {
   "cell_type": "markdown",
   "metadata": {
    "id": "BV2Qq33vNu78"
   },
   "source": [
    "### Dataset Description"
   ]
  },
  {
   "cell_type": "code",
   "execution_count": null,
   "metadata": {},
   "outputs": [],
   "source": [
    "# use this code if read the data set from the local drive\n",
    "# raw_data = pd.read_csv('brfss2020.csv')"
   ]
  },
  {
   "cell_type": "code",
   "execution_count": null,
   "metadata": {
    "colab": {
     "base_uri": "https://localhost:8080/"
    },
    "executionInfo": {
     "elapsed": 3,
     "status": "ok",
     "timestamp": 1683620018537,
     "user": {
      "displayName": "Lily Luk",
      "userId": "09642630961590319976"
     },
     "user_tz": -480
    },
    "id": "sb62BmYjMH0E",
    "outputId": "a676ac3f-f600-4901-c349-5a5c4bc67ce3"
   },
   "outputs": [
    {
     "name": "stdout",
     "output_type": "stream",
     "text": [
      "Drive already mounted at /content/drive; to attempt to forcibly remount, call drive.mount(\"/content/drive\", force_remount=True).\n"
     ]
    }
   ],
   "source": [
    "from google.colab import drive\n",
    "drive.mount('/content/drive')"
   ]
  },
  {
   "cell_type": "code",
   "execution_count": null,
   "metadata": {
    "id": "vpVzb771MeEE"
   },
   "outputs": [],
   "source": [
    "raw_data = pd.read_csv('/content/drive/MyDrive/ISOM3360 Group Project/brfss2020.csv')"
   ]
  },
  {
   "cell_type": "code",
   "execution_count": null,
   "metadata": {
    "id": "b9G-arA5tLeN"
   },
   "outputs": [],
   "source": [
    "# create new dataset to do data cleaning\n",
    "data = raw_data.copy()"
   ]
  },
  {
   "cell_type": "code",
   "execution_count": null,
   "metadata": {
    "colab": {
     "base_uri": "https://localhost:8080/"
    },
    "executionInfo": {
     "elapsed": 7,
     "status": "ok",
     "timestamp": 1683620056283,
     "user": {
      "displayName": "Lily Luk",
      "userId": "09642630961590319976"
     },
     "user_tz": -480
    },
    "id": "osS-MzbONu79",
    "outputId": "000c7344-a861-4943-abaa-826fb904b7d2",
    "scrolled": true
   },
   "outputs": [
    {
     "data": {
      "text/plain": [
       "(401958, 279)"
      ]
     },
     "execution_count": 5,
     "metadata": {},
     "output_type": "execute_result"
    }
   ],
   "source": [
    "# figure out the number of records and features\n",
    "data.shape"
   ]
  },
  {
   "cell_type": "markdown",
   "metadata": {
    "id": "W7EY5MpFNu79"
   },
   "source": [
    "### Label Determination"
   ]
  },
  {
   "cell_type": "code",
   "execution_count": null,
   "metadata": {
    "id": "F46H4m3ZNu79"
   },
   "outputs": [],
   "source": [
    "# set the target \n",
    "target = '_MICHD'"
   ]
  },
  {
   "cell_type": "code",
   "execution_count": null,
   "metadata": {
    "colab": {
     "base_uri": "https://localhost:8080/"
    },
    "executionInfo": {
     "elapsed": 6,
     "status": "ok",
     "timestamp": 1683620056283,
     "user": {
      "displayName": "Lily Luk",
      "userId": "09642630961590319976"
     },
     "user_tz": -480
    },
    "id": "D9G4E5RuNu7-",
    "outputId": "c927bc40-1d05-4d9f-fe8f-539f8b1fec9b",
    "scrolled": true
   },
   "outputs": [
    {
     "data": {
      "text/plain": [
       "3571"
      ]
     },
     "execution_count": 7,
     "metadata": {},
     "output_type": "execute_result"
    }
   ],
   "source": [
    "# detect the number of missing values for the target\n",
    "data[target].isnull().sum()"
   ]
  },
  {
   "cell_type": "code",
   "execution_count": null,
   "metadata": {
    "colab": {
     "base_uri": "https://localhost:8080/"
    },
    "executionInfo": {
     "elapsed": 1231,
     "status": "ok",
     "timestamp": 1683620057510,
     "user": {
      "displayName": "Lily Luk",
      "userId": "09642630961590319976"
     },
     "user_tz": -480
    },
    "id": "oyRcwgw4Nu7-",
    "outputId": "330180db-7ee7-4b1b-cbc5-c0ac3486310f"
   },
   "outputs": [
    {
     "data": {
      "text/plain": [
       "0"
      ]
     },
     "execution_count": 8,
     "metadata": {},
     "output_type": "execute_result"
    }
   ],
   "source": [
    "# drop the examples with the null for target varibale\n",
    "data.dropna(subset=['_MICHD'], inplace=True)\n",
    "data[target].isnull().sum()"
   ]
  },
  {
   "cell_type": "code",
   "execution_count": null,
   "metadata": {
    "id": "vdEVQj4ANu7-"
   },
   "outputs": [],
   "source": [
    "# replace the value of 2 which means did not report having disease with 0\n",
    "data[target].replace(to_replace=2, value=0, inplace=True)"
   ]
  },
  {
   "cell_type": "markdown",
   "metadata": {
    "id": "68p5FbxgNu7-"
   },
   "source": [
    "###  Feature Selection"
   ]
  },
  {
   "cell_type": "code",
   "execution_count": null,
   "metadata": {
    "id": "dbUje5R1Nu7-"
   },
   "outputs": [],
   "source": [
    "# compute the percentage of nulls for each feature\n",
    "isnull_percentage = data.isnull().sum()/len(data)"
   ]
  },
  {
   "cell_type": "code",
   "execution_count": null,
   "metadata": {
    "id": "Pu7oi-vWilmO"
   },
   "outputs": [],
   "source": [
    "# generate the list of features with the percentage of nulls that is greater than 90%\n",
    "variables = list(data.columns)\n",
    "isnull_percentage_greater_90 = []\n",
    "for i in range(0,len(isnull_percentage)):\n",
    "    if isnull_percentage[i] > 0.9:\n",
    "        isnull_percentage_greater_90.append(variables[i])"
   ]
  },
  {
   "cell_type": "code",
   "execution_count": null,
   "metadata": {
    "id": "CPSHGG_Vakjt"
   },
   "outputs": [],
   "source": [
    "# select irrelated and repeated variables manually\n",
    "irrelated_variables = ['FMONTH', 'IDATE', 'IMONTH', 'IDAY', 'IYEAR', 'DISPCODE', 'SEQNO', '_PSU', 'CTELENM1', 'STATERE1', 'CELPHONE', 'LADULT1', 'LANDSEX', \n",
    "                'RESPSLCT', 'SAFETIME', 'CTELNUM1', 'CELLFON5', 'CADULT1', 'CELLSEX', 'PVTRESD3', 'CSTATE1', 'LANDLINE', 'HHADULT', 'CVDINFR4', 'CVDCRHD4',\n",
    "                'NUMHHOL3', 'CPDEMO1B', 'WEIGHT2', 'STOPSMK2', 'ALCDAY5', 'DRNK3GE5', 'FALLINJ4', 'FLSHTMY3', 'LASTSMK2', 'SMOKE100', 'SMOKDAY2', 'HOWLONG', \n",
    "                'LASTPAP2', 'HPLSTTST', 'PSATIME', 'COLNTEST', 'PCPSAAD3', 'PCPSADI1', 'PCPSARE1', 'PCPSARS1', 'HEIGHT3', 'SEATBELT', 'DIFFDRES', 'HIVTSTD3', \n",
    "                'HIVRISK5', 'BIRTHSEX', 'SOMALE', 'SOFEMALE', 'TRNSGNDR', 'RCSGENDR', 'RCSRLTN2', 'CASTHDX2', 'QSTVER', 'QSTLANG', 'MSCODE', '_STSTR', '_STRWT', \n",
    "                '_RAWRAKE', '_WT2RAKE', '_IMPRACE', '_CHISPNC', '_CRACE1', '_CPRACE', '_CLLCPWT', '_DUALUSE', '_DUALCOR', '_LLCPWT2', '_LLCPWT', '_ASTHMS1', \n",
    "                '_DENVST3', '_MRACE1', '_HISPANC', '_RACE', '_RACEG21', '_RACEGR3', '_RACEPRV', '_AGEG5YR', '_AGE65YR', '_AGE_G', 'HTIN4', '_BMI5', '_RFBMI5', \n",
    "                '_RFSMOK3', 'DROCDY3_', '_RFBING5', '_DRNKWK1', '_RFDRHV7', '_RFSEAT2', '_RFSEAT3', '_DRNKDRV', '_RFMAM22', '_MAM5023', '_RFPAP35', '_RFPSA23', \n",
    "                '_CLNSCPY', '_SGMSCPY', '_SGMS10Y', '_RFBLDS4', '_STOLDNA', '_VIRCOLN', '_SBONTIM', '_AIDTST4', '_EXTETH3', '_ALTETH3', '_SEX', '_CHLDCNT', '_EDUCAG', \n",
    "                '_INCOMG', 'DRNKANY5', '_FLSHOT7']"
   ]
  },
  {
   "cell_type": "code",
   "execution_count": null,
   "metadata": {
    "id": "OyZAlfQRNu7-",
    "scrolled": true
   },
   "outputs": [],
   "source": [
    "# drop these features\n",
    "dropped_list = isnull_percentage_greater_90 + irrelated_variables\n",
    "data = data.drop(columns = dropped_list)"
   ]
  },
  {
   "cell_type": "markdown",
   "metadata": {
    "id": "h2hnnKVTNu7-"
   },
   "source": [
    "### Data Visualization"
   ]
  },
  {
   "cell_type": "code",
   "execution_count": null,
   "metadata": {
    "colab": {
     "base_uri": "https://localhost:8080/"
    },
    "executionInfo": {
     "elapsed": 13,
     "status": "ok",
     "timestamp": 1683620057512,
     "user": {
      "displayName": "Lily Luk",
      "userId": "09642630961590319976"
     },
     "user_tz": -480
    },
    "id": "ggCwuFw8Nu7_",
    "outputId": "00d62d5b-2b2f-4fe1-b194-2ed4118c7d3f"
   },
   "outputs": [
    {
     "data": {
      "text/plain": [
       "0.0    364224\n",
       "1.0     34163\n",
       "Name: _MICHD, dtype: int64"
      ]
     },
     "execution_count": 14,
     "metadata": {},
     "output_type": "execute_result"
    }
   ],
   "source": [
    "data[target].value_counts()"
   ]
  },
  {
   "cell_type": "code",
   "execution_count": null,
   "metadata": {
    "colab": {
     "base_uri": "https://localhost:8080/"
    },
    "executionInfo": {
     "elapsed": 12,
     "status": "ok",
     "timestamp": 1683620057512,
     "user": {
      "displayName": "Lily Luk",
      "userId": "09642630961590319976"
     },
     "user_tz": -480
    },
    "id": "0gPJbEg3Nu7_",
    "outputId": "e49aca32-fa98-4251-ae6b-588653fcb8d7"
   },
   "outputs": [
    {
     "name": "stdout",
     "output_type": "stream",
     "text": [
      "The percentage of individuals who have been diagnosed with heart disease 0.0857533001829879\n",
      "The percentage of individuals who have not been diagnosed with heart disease 0.9142466998170121\n"
     ]
    }
   ],
   "source": [
    "# calculate the percentage of 0 and 1 for the label\n",
    "percentage_of_1 = data[target].value_counts()[1]/len(data[target])\n",
    "percentage_of_0= data[target].value_counts()[0]/len(data[target])\n",
    "print(f'The percentage of individuals who have been diagnosed with heart disease {percentage_of_1}')\n",
    "print(f'The percentage of individuals who have not been diagnosed with heart disease {percentage_of_0}')"
   ]
  },
  {
   "cell_type": "code",
   "execution_count": null,
   "metadata": {
    "colab": {
     "base_uri": "https://localhost:8080/",
     "height": 472
    },
    "executionInfo": {
     "elapsed": 10,
     "status": "ok",
     "timestamp": 1683620057512,
     "user": {
      "displayName": "Lily Luk",
      "userId": "09642630961590319976"
     },
     "user_tz": -480
    },
    "id": "oUzFt-LrNu7_",
    "outputId": "25b43c0d-fafd-49a9-b226-11d11d47987c"
   },
   "outputs": [
    {
     "data": {
      "image/png": "[encoded data removed]",
      "text/plain": [
       "<Figure size 640x480 with 1 Axes>"
      ]
     },
     "metadata": {},
     "output_type": "display_data"
    }
   ],
   "source": [
    "sns.countplot(x=\"_MICHD\", data=data, palette=\"bwr\")\n",
    "plt.title('Heart Disease Frequency')\n",
    "plt.xlabel('(0 = Haven\\'t Disease, 1 = Have Disease)')\n",
    "plt.xticks(rotation=0)\n",
    "plt.ylabel('Frequency')\n",
    "plt.show()"
   ]
  },
  {
   "cell_type": "code",
   "execution_count": null,
   "metadata": {
    "colab": {
     "base_uri": "https://localhost:8080/",
     "height": 493
    },
    "executionInfo": {
     "elapsed": 1153,
     "status": "ok",
     "timestamp": 1683620058656,
     "user": {
      "displayName": "Lily Luk",
      "userId": "09642630961590319976"
     },
     "user_tz": -480
    },
    "id": "9pjUb9cjNu7_",
    "outputId": "23b58caa-4990-492e-cee8-e8eb9cd1a112",
    "scrolled": true
   },
   "outputs": [
    {
     "data": {
      "image/png": "[encoded data removed]",
      "text/plain": [
       "<Figure size 1500x600 with 1 Axes>"
      ]
     },
     "metadata": {},
     "output_type": "display_data"
    }
   ],
   "source": [
    "#sex\n",
    "pd.crosstab(data.SEXVAR,data._MICHD).plot(kind=\"bar\",figsize=(15,6),color=['#1CA53B','#AA1111' ])\n",
    "plt.title('Heart Disease Frequency for Sex')\n",
    "plt.xlabel('Sex (1 = Female, 2 = Male)')\n",
    "plt.xticks(rotation=0)\n",
    "plt.legend([\"Haven't Disease\", \"Have Disease\"])\n",
    "plt.ylabel('Frequency')\n",
    "plt.show()"
   ]
  },
  {
   "cell_type": "markdown",
   "metadata": {
    "id": "5nmssR00Nu7_"
   },
   "source": [
    "## Data Preprocessing"
   ]
  },
  {
   "cell_type": "markdown",
   "metadata": {
    "id": "MW9Ffwz-Nu7_"
   },
   "source": [
    "### Categorical and Numerical Variables"
   ]
  },
  {
   "cell_type": "code",
   "execution_count": null,
   "metadata": {
    "id": "f9WvfG6mNu7_"
   },
   "outputs": [],
   "source": [
    "# handle categorical variable\n",
    "categorical_list = ['_STATE','PVTRESD1','SEXVAR','GENHLTH','HLTHPLN1','PERSDOC2','MEDCOST','CHECKUP1','EXERANY2','CVDSTRK3',\n",
    "                    'ASTHMA3','ASTHNOW','CHCSCNCR','CHCOCNCR','CHCCOPD2','HAVARTH4','ADDEPEV3','CHCKDNY2','DIABETE4','LASTDEN4',\n",
    "                    'RMVTETH4','MARITAL','EDUCA','RENTHOM1','VETERAN3','DEAF','BLIND','DECIDE','DIFFWALK','DIFFALON','USENOW3',\n",
    "                    'FLUSHOT7','PNEUVAC4','PREGNANT','HADMAM','HADPAP2','HPVTEST','HADHYST2','PSATEST1','COLNSCPY','SIGMSCPY',\n",
    "                    'BLDSTOL1','SHINGLE2','LSTBLDS4','STOOLDNA','VIRCOLON','HIVTST7','PDIABTST','PREDIAB1','CIMEMLOS','ECIGARET',\n",
    "                    'ECIGNOW','ACEDEPRS','ACEDRINK','ACEDRUGS','ACEPRISN','ACEDIVRC','ACEPUNCH','ACEHURT1','ACESWEAR','ACETOUCH',\n",
    "                    'ACETTHEM','ACEHVSEX','_METSTAT','_URBSTAT','_RFHLTH','_PHYS14D','_MENT14D','_HCVU651','_TOTINDA','_LTASTH1',\n",
    "                    '_CASTHM1','_DRDXAR2','_BMI5CAT','_SMOKER3','_PNEUMO3','_CRCREC1','_PRACE1','EMPLOY1','INCOME2']\n",
    "\n",
    "# mark the value of 7,9,77,99 as missing value\n",
    "categorical_list1 = ['_STATE','PVTRESD1','SEXVAR','GENHLTH','HLTHPLN1','PERSDOC2','MEDCOST','CHECKUP1','EXERANY2',\n",
    "                    'CVDSTRK3','ASTHMA3','ASTHNOW','CHCSCNCR','CHCOCNCR','CHCCOPD2','HAVARTH4','ADDEPEV3','CHCKDNY2',\n",
    "                    'DIABETE4','LASTDEN4','RMVTETH4','MARITAL','EDUCA','RENTHOM1','VETERAN3','DEAF',\n",
    "                    'BLIND','DECIDE','DIFFWALK','DIFFALON','USENOW3','FLUSHOT7','PNEUVAC4','PREGNANT','HADMAM','HADPAP2',\n",
    "                    'HPVTEST','HADHYST2','PSATEST1','COLNSCPY','SIGMSCPY','BLDSTOL1','SHINGLE2','LSTBLDS4', 'STOOLDNA', \n",
    "                    'VIRCOLON', 'HIVTST7', 'PDIABTST', 'PREDIAB1', 'CIMEMLOS','ECIGARET', 'ECIGNOW', 'ACEDEPRS', 'ACEDRINK', \n",
    "                    'ACEDRUGS', 'ACEPRISN', 'ACEDIVRC', 'ACEPUNCH', 'ACEHURT1', 'ACESWEAR', 'ACETOUCH', 'ACETTHEM', 'ACEHVSEX', \n",
    "                    '_METSTAT', '_URBSTAT', '_RFHLTH', '_PHYS14D', '_MENT14D', '_HCVU651', '_TOTINDA', '_LTASTH1', \n",
    "                    '_CASTHM1', '_DRDXAR2', '_BMI5CAT', '_SMOKER3', '_PNEUMO3', '_CRCREC1']\n",
    "\n",
    "for categorical_feature1 in categorical_list1:\n",
    "    mode = data[categorical_feature1].mode()[0]\n",
    "    data[categorical_feature1].replace(to_replace=7, value=mode, inplace=True)\n",
    "    data[categorical_feature1].replace(to_replace=77, value=mode, inplace=True)\n",
    "    data[categorical_feature1].replace(to_replace=9, value=mode, inplace=True)\n",
    "    data[categorical_feature1].replace(to_replace=99, value=mode, inplace=True)\n",
    "    \n",
    "# mark the value of 9,77,99 as missing value\n",
    "categorical_list2 = ['_PRACE1', 'EMPLOY1','INCOME2']\n",
    "\n",
    "for categorical_feature2 in categorical_list2:\n",
    "    mode = data[categorical_feature2].mode()[0]\n",
    "    data[categorical_feature2].replace(to_replace=77, value=mode, inplace=True)\n",
    "    data[categorical_feature2].replace(to_replace=9, value=mode, inplace=True)\n",
    "    data[categorical_feature2].replace(to_replace=99, value=mode, inplace=True)\n",
    "\n",
    "# assign the blank with a value due to its informative\n",
    "categorical_list3 = ['ASTHNOW','PREGNANT','HADMAM','HADPAP2','HPVTEST','HADHYST2','PSATEST1','COLNSCPY','SIGMSCPY',\n",
    "                     'BLDSTOL1','SHINGLE2','LSTBLDS4','STOOLDNA','VIRCOLON','HIVTST7','PDIABTST','PREDIAB1','CIMEMLOS',\n",
    "                     '_HCVU651','_BMI5CAT','_SMOKER3','_PNEUMO3','_CRCREC1']\n",
    "\n",
    "for categorical_feature3 in categorical_list3:\n",
    "    data[categorical_feature3].fillna(0,inplace = True)\n",
    "\n",
    "# replace missing value for categorical data by using mode \n",
    "categorical_list4 = ['PVTRESD1','GENHLTH','HLTHPLN1','PERSDOC2','MEDCOST','CHECKUP1','EXERANY2',\n",
    "                    'CVDSTRK3','ASTHMA3','CHCSCNCR','CHCOCNCR','CHCCOPD2','HAVARTH4','ADDEPEV3','CHCKDNY2',\n",
    "                    'DIABETE4','LASTDEN4','RMVTETH4','MARITAL','EDUCA','RENTHOM1','VETERAN3','EMPLOY1','INCOME2','DEAF',\n",
    "                    'BLIND','DECIDE','DIFFWALK','DIFFALON','USENOW3','FLUSHOT7','PNEUVAC4', \n",
    "                    'ECIGARET', 'ECIGNOW', 'ACEDEPRS', 'ACEDRINK', \n",
    "                    'ACEDRUGS', 'ACEPRISN', 'ACEDIVRC', 'ACEPUNCH', 'ACEHURT1', 'ACESWEAR', 'ACETOUCH', 'ACETTHEM', 'ACEHVSEX', \n",
    "                    '_METSTAT', '_URBSTAT', '_RFHLTH', '_PHYS14D', '_MENT14D', '_TOTINDA', '_LTASTH1', \n",
    "                    '_CASTHM1', '_DRDXAR2', '_PRACE1']\n",
    "\n",
    "\n",
    "for categorical_feature4 in categorical_list4:\n",
    "    mode = data[categorical_feature4].mode()[0]\n",
    "    data[categorical_feature4].fillna(mode,inplace = True)"
   ]
  },
  {
   "cell_type": "code",
   "execution_count": null,
   "metadata": {
    "id": "wMmFomLDNu7_"
   },
   "outputs": [],
   "source": [
    "# handle numerical variable\n",
    "numerical_list = ['_AGE80','HTM4','WTKG3','MARIJAN1','CHILDREN','AVEDRNK3','MAXDRNKS','FALL12MN','DRNKDRI2','NUMADULT',\n",
    "                  'NUMMEN','NUMWOMEN','PHYSHLTH','MENTHLTH','POORHLTH','SLEPTIM1','DIABAGE3']\n",
    "\n",
    "# convert blank to 0:\n",
    "convert_blank_to_0 = ['MARIJAN1','AVEDRNK3','MAXDRNKS','FALL12MN','DRNKDRI2','POORHLTH','DIABAGE3']\n",
    "for i1 in convert_blank_to_0:\n",
    "    data[i1].fillna(0, inplace=True)\n",
    "    \n",
    "# convert 88 to 0:\n",
    "convert_88_to_0 = ['MARIJAN1','CHILDREN','AVEDRNK3','FALL12MN','DRNKDRI2','PHYSHLTH','MENTHLTH','POORHLTH']\n",
    "for i2 in convert_88_to_0:\n",
    "    data[i2].replace(88, 0, inplace=True)\n",
    "\n",
    "# convert 77 to blank:\n",
    "convert_77_to_blank = ['MARIJAN1','AVEDRNK3','MAXDRNKS','FALL12MN','DRNKDRI2','PHYSHLTH','MENTHLTH','POORHLTH','SLEPTIM1']\n",
    "for f1 in convert_77_to_blank:\n",
    "    data[f1].replace(77, value=pd.NaT, inplace=True)\n",
    "    \n",
    "# convert 99 to blank:\n",
    "convert_99_to_blank = ['MARIJAN1','CHILDREN','AVEDRNK3','MAXDRNKS','FALL12MN','DRNKDRI2','PHYSHLTH','MENTHLTH','POORHLTH','SLEPTIM1','DIABAGE3']\n",
    "for f2 in convert_99_to_blank:\n",
    "    data[f2].replace(99, value=pd.NaT, inplace=True)\n",
    "    \n",
    "# convert 98 to blank:\n",
    "data['DIABAGE3'].replace(98, value=pd.NaT, inplace=True)\n",
    "\n",
    "# replacing missing value for numerical data by using mean \n",
    "for j in numerical_list:\n",
    "    data[j].fillna(data[j].mean(),inplace = True) \n",
    "\n",
    "    \n",
    "# normalize numerical value\n",
    "for numercial_feature in numerical_list:\n",
    "    min_value = data[numercial_feature].min()\n",
    "    max_value = data[numercial_feature].max()\n",
    "    data[numercial_feature] = [(value - min_value)/(max_value - min_value) for value in data[numercial_feature]]"
   ]
  },
  {
   "cell_type": "markdown",
   "metadata": {
    "id": "m8W8mZRaNu8A"
   },
   "source": [
    "### Variables Conversion"
   ]
  },
  {
   "cell_type": "code",
   "execution_count": null,
   "metadata": {
    "id": "F6CFAKXONu8A"
   },
   "outputs": [],
   "source": [
    "# perform One-Hot Encoding on data\n",
    "data = pd.get_dummies(data, columns=categorical_list,drop_first = True)"
   ]
  },
  {
   "cell_type": "markdown",
   "metadata": {
    "id": "5pQL-KSXNu8A"
   },
   "source": [
    "### Dataset Split\n"
   ]
  },
  {
   "cell_type": "code",
   "execution_count": null,
   "metadata": {
    "id": "iDSVl_7ANu8A"
   },
   "outputs": [],
   "source": [
    "cleaned_data = data.copy()"
   ]
  },
  {
   "cell_type": "code",
   "execution_count": null,
   "metadata": {
    "colab": {
     "base_uri": "https://localhost:8080/",
     "height": 300
    },
    "executionInfo": {
     "elapsed": 17,
     "status": "ok",
     "timestamp": 1683620068025,
     "user": {
      "displayName": "Lily Luk",
      "userId": "09642630961590319976"
     },
     "user_tz": -480
    },
    "id": "jZQaJPbrNu8A",
    "outputId": "5f42ca0b-a6e3-4fc6-ea02-3f2ffb4e89ab",
    "scrolled": true
   },
   "outputs": [
    {
     "data": {
      "text/html": [
       "\n",
       "  <div id=\"df-ef86e9f9-b034-4d0f-93eb-7d152f15479f\">\n",
       "    <div class=\"colab-df-container\">\n",
       "      <div>\n",
       "<style scoped>\n",
       "    .dataframe tbody tr th:only-of-type {\n",
       "        vertical-align: middle;\n",
       "    }\n",
       "\n",
       "    .dataframe tbody tr th {\n",
       "        vertical-align: top;\n",
       "    }\n",
       "\n",
       "    .dataframe thead th {\n",
       "        text-align: right;\n",
       "    }\n",
       "</style>\n",
       "<table border=\"1\" class=\"dataframe\">\n",
       "  <thead>\n",
       "    <tr style=\"text-align: right;\">\n",
       "      <th></th>\n",
       "      <th>NUMADULT</th>\n",
       "      <th>NUMMEN</th>\n",
       "      <th>NUMWOMEN</th>\n",
       "      <th>PHYSHLTH</th>\n",
       "      <th>MENTHLTH</th>\n",
       "      <th>POORHLTH</th>\n",
       "      <th>SLEPTIM1</th>\n",
       "      <th>DIABAGE3</th>\n",
       "      <th>CHILDREN</th>\n",
       "      <th>AVEDRNK3</th>\n",
       "      <th>...</th>\n",
       "      <th>EMPLOY1_6.0</th>\n",
       "      <th>EMPLOY1_7.0</th>\n",
       "      <th>EMPLOY1_8.0</th>\n",
       "      <th>INCOME2_2.0</th>\n",
       "      <th>INCOME2_3.0</th>\n",
       "      <th>INCOME2_4.0</th>\n",
       "      <th>INCOME2_5.0</th>\n",
       "      <th>INCOME2_6.0</th>\n",
       "      <th>INCOME2_7.0</th>\n",
       "      <th>INCOME2_8.0</th>\n",
       "    </tr>\n",
       "  </thead>\n",
       "  <tbody>\n",
       "    <tr>\n",
       "      <th>0</th>\n",
       "      <td>0.0</td>\n",
       "      <td>0.0</td>\n",
       "      <td>0.055556</td>\n",
       "      <td>0.1</td>\n",
       "      <td>1.0</td>\n",
       "      <td>0.1</td>\n",
       "      <td>0.173913</td>\n",
       "      <td>0.37234</td>\n",
       "      <td>0.0</td>\n",
       "      <td>0.0</td>\n",
       "      <td>...</td>\n",
       "      <td>0</td>\n",
       "      <td>0</td>\n",
       "      <td>0</td>\n",
       "      <td>0</td>\n",
       "      <td>0</td>\n",
       "      <td>0</td>\n",
       "      <td>0</td>\n",
       "      <td>0</td>\n",
       "      <td>0</td>\n",
       "      <td>0</td>\n",
       "    </tr>\n",
       "    <tr>\n",
       "      <th>1</th>\n",
       "      <td>0.0</td>\n",
       "      <td>0.0</td>\n",
       "      <td>0.055556</td>\n",
       "      <td>0.0</td>\n",
       "      <td>0.0</td>\n",
       "      <td>0.0</td>\n",
       "      <td>0.260870</td>\n",
       "      <td>0.00000</td>\n",
       "      <td>0.0</td>\n",
       "      <td>0.0</td>\n",
       "      <td>...</td>\n",
       "      <td>0</td>\n",
       "      <td>1</td>\n",
       "      <td>0</td>\n",
       "      <td>0</td>\n",
       "      <td>0</td>\n",
       "      <td>0</td>\n",
       "      <td>0</td>\n",
       "      <td>0</td>\n",
       "      <td>0</td>\n",
       "      <td>1</td>\n",
       "    </tr>\n",
       "    <tr>\n",
       "      <th>2</th>\n",
       "      <td>0.0</td>\n",
       "      <td>0.0</td>\n",
       "      <td>0.055556</td>\n",
       "      <td>0.0</td>\n",
       "      <td>0.0</td>\n",
       "      <td>0.0</td>\n",
       "      <td>0.260870</td>\n",
       "      <td>0.00000</td>\n",
       "      <td>0.0</td>\n",
       "      <td>0.0</td>\n",
       "      <td>...</td>\n",
       "      <td>0</td>\n",
       "      <td>1</td>\n",
       "      <td>0</td>\n",
       "      <td>0</td>\n",
       "      <td>0</td>\n",
       "      <td>0</td>\n",
       "      <td>0</td>\n",
       "      <td>0</td>\n",
       "      <td>1</td>\n",
       "      <td>0</td>\n",
       "    </tr>\n",
       "    <tr>\n",
       "      <th>3</th>\n",
       "      <td>0.0</td>\n",
       "      <td>0.0</td>\n",
       "      <td>0.055556</td>\n",
       "      <td>0.0</td>\n",
       "      <td>0.0</td>\n",
       "      <td>0.0</td>\n",
       "      <td>0.217391</td>\n",
       "      <td>0.00000</td>\n",
       "      <td>0.0</td>\n",
       "      <td>0.0</td>\n",
       "      <td>...</td>\n",
       "      <td>0</td>\n",
       "      <td>0</td>\n",
       "      <td>0</td>\n",
       "      <td>0</td>\n",
       "      <td>0</td>\n",
       "      <td>0</td>\n",
       "      <td>0</td>\n",
       "      <td>0</td>\n",
       "      <td>0</td>\n",
       "      <td>1</td>\n",
       "    </tr>\n",
       "    <tr>\n",
       "      <th>4</th>\n",
       "      <td>0.0</td>\n",
       "      <td>0.0</td>\n",
       "      <td>0.055556</td>\n",
       "      <td>0.0</td>\n",
       "      <td>0.0</td>\n",
       "      <td>0.0</td>\n",
       "      <td>0.260870</td>\n",
       "      <td>0.00000</td>\n",
       "      <td>0.0</td>\n",
       "      <td>0.0</td>\n",
       "      <td>...</td>\n",
       "      <td>0</td>\n",
       "      <td>1</td>\n",
       "      <td>0</td>\n",
       "      <td>0</td>\n",
       "      <td>0</td>\n",
       "      <td>0</td>\n",
       "      <td>0</td>\n",
       "      <td>0</td>\n",
       "      <td>0</td>\n",
       "      <td>1</td>\n",
       "    </tr>\n",
       "  </tbody>\n",
       "</table>\n",
       "<p>5 rows × 230 columns</p>\n",
       "</div>\n",
       "      <button class=\"colab-df-convert\" onclick=\"convertToInteractive('df-ef86e9f9-b034-4d0f-93eb-7d152f15479f')\"\n",
       "              title=\"Convert this dataframe to an interactive table.\"\n",
       "              style=\"display:none;\">\n",
       "        \n",
       "  <svg xmlns=\"http://www.w3.org/2000/svg\" height=\"24px\"viewBox=\"0 0 24 24\"\n",
       "       width=\"24px\">\n",
       "    <path d=\"M0 0h24v24H0V0z\" fill=\"none\"/>\n",
       "    <path d=\"M18.56 5.44l.94 2.06.94-2.06 2.06-.94-2.06-.94-.94-2.06-.94 2.06-2.06.94zm-11 1L8.5 8.5l.94-2.06 2.06-.94-2.06-.94L8.5 2.5l-.94 2.06-2.06.94zm10 10l.94 2.06.94-2.06 2.06-.94-2.06-.94-.94-2.06-.94 2.06-2.06.94z\"/><path d=\"M17.41 7.96l-1.37-1.37c-.4-.4-.92-.59-1.43-.59-.52 0-1.04.2-1.43.59L10.3 9.45l-7.72 7.72c-.78.78-.78 2.05 0 2.83L4 21.41c.39.39.9.59 1.41.59.51 0 1.02-.2 1.41-.59l7.78-7.78 2.81-2.81c.8-.78.8-2.07 0-2.86zM5.41 20L4 18.59l7.72-7.72 1.47 1.35L5.41 20z\"/>\n",
       "  </svg>\n",
       "      </button>\n",
       "      \n",
       "  <style>\n",
       "    .colab-df-container {\n",
       "      display:flex;\n",
       "      flex-wrap:wrap;\n",
       "      gap: 12px;\n",
       "    }\n",
       "\n",
       "    .colab-df-convert {\n",
       "      background-color: #E8F0FE;\n",
       "      border: none;\n",
       "      border-radius: 50%;\n",
       "      cursor: pointer;\n",
       "      display: none;\n",
       "      fill: #1967D2;\n",
       "      height: 32px;\n",
       "      padding: 0 0 0 0;\n",
       "      width: 32px;\n",
       "    }\n",
       "\n",
       "    .colab-df-convert:hover {\n",
       "      background-color: #E2EBFA;\n",
       "      box-shadow: 0px 1px 2px rgba(60, 64, 67, 0.3), 0px 1px 3px 1px rgba(60, 64, 67, 0.15);\n",
       "      fill: #174EA6;\n",
       "    }\n",
       "\n",
       "    [theme=dark] .colab-df-convert {\n",
       "      background-color: #3B4455;\n",
       "      fill: #D2E3FC;\n",
       "    }\n",
       "\n",
       "    [theme=dark] .colab-df-convert:hover {\n",
       "      background-color: #434B5C;\n",
       "      box-shadow: 0px 1px 3px 1px rgba(0, 0, 0, 0.15);\n",
       "      filter: drop-shadow(0px 1px 2px rgba(0, 0, 0, 0.3));\n",
       "      fill: #FFFFFF;\n",
       "    }\n",
       "  </style>\n",
       "\n",
       "      <script>\n",
       "        const buttonEl =\n",
       "          document.querySelector('#df-ef86e9f9-b034-4d0f-93eb-7d152f15479f button.colab-df-convert');\n",
       "        buttonEl.style.display =\n",
       "          google.colab.kernel.accessAllowed ? 'block' : 'none';\n",
       "\n",
       "        async function convertToInteractive(key) {\n",
       "          const element = document.querySelector('#df-ef86e9f9-b034-4d0f-93eb-7d152f15479f');\n",
       "          const dataTable =\n",
       "            await google.colab.kernel.invokeFunction('convertToInteractive',\n",
       "                                                     [key], {});\n",
       "          if (!dataTable) return;\n",
       "\n",
       "          const docLinkHtml = 'Like what you see? Visit the ' +\n",
       "            '<a target=\"_blank\" href=https://colab.research.google.com/notebooks/data_table.ipynb>data table notebook</a>'\n",
       "            + ' to learn more about interactive tables.';\n",
       "          element.innerHTML = '';\n",
       "          dataTable['output_type'] = 'display_data';\n",
       "          await google.colab.output.renderOutput(dataTable, element);\n",
       "          const docLink = document.createElement('div');\n",
       "          docLink.innerHTML = docLinkHtml;\n",
       "          element.appendChild(docLink);\n",
       "        }\n",
       "      </script>\n",
       "    </div>\n",
       "  </div>\n",
       "  "
      ],
      "text/plain": [
       "   NUMADULT  NUMMEN  NUMWOMEN  PHYSHLTH  MENTHLTH  POORHLTH  SLEPTIM1  \\\n",
       "0       0.0     0.0  0.055556       0.1       1.0       0.1  0.173913   \n",
       "1       0.0     0.0  0.055556       0.0       0.0       0.0  0.260870   \n",
       "2       0.0     0.0  0.055556       0.0       0.0       0.0  0.260870   \n",
       "3       0.0     0.0  0.055556       0.0       0.0       0.0  0.217391   \n",
       "4       0.0     0.0  0.055556       0.0       0.0       0.0  0.260870   \n",
       "\n",
       "   DIABAGE3  CHILDREN  AVEDRNK3  ...  EMPLOY1_6.0  EMPLOY1_7.0  EMPLOY1_8.0  \\\n",
       "0   0.37234       0.0       0.0  ...            0            0            0   \n",
       "1   0.00000       0.0       0.0  ...            0            1            0   \n",
       "2   0.00000       0.0       0.0  ...            0            1            0   \n",
       "3   0.00000       0.0       0.0  ...            0            0            0   \n",
       "4   0.00000       0.0       0.0  ...            0            1            0   \n",
       "\n",
       "   INCOME2_2.0  INCOME2_3.0  INCOME2_4.0  INCOME2_5.0  INCOME2_6.0  \\\n",
       "0            0            0            0            0            0   \n",
       "1            0            0            0            0            0   \n",
       "2            0            0            0            0            0   \n",
       "3            0            0            0            0            0   \n",
       "4            0            0            0            0            0   \n",
       "\n",
       "   INCOME2_7.0  INCOME2_8.0  \n",
       "0            0            0  \n",
       "1            0            1  \n",
       "2            1            0  \n",
       "3            0            1  \n",
       "4            0            1  \n",
       "\n",
       "[5 rows x 230 columns]"
      ]
     },
     "execution_count": 22,
     "metadata": {},
     "output_type": "execute_result"
    }
   ],
   "source": [
    "cleaned_data.head()"
   ]
  },
  {
   "cell_type": "code",
   "execution_count": null,
   "metadata": {
    "colab": {
     "base_uri": "https://localhost:8080/"
    },
    "executionInfo": {
     "elapsed": 16,
     "status": "ok",
     "timestamp": 1683620068026,
     "user": {
      "displayName": "Lily Luk",
      "userId": "09642630961590319976"
     },
     "user_tz": -480
    },
    "id": "cJXsytDaNu8A",
    "outputId": "0f2c3801-b91d-444f-ed41-11a956575dce",
    "scrolled": true
   },
   "outputs": [
    {
     "name": "stdout",
     "output_type": "stream",
     "text": [
      "<class 'pandas.core.frame.DataFrame'>\n",
      "Int64Index: 398387 entries, 0 to 401957\n",
      "Data columns (total 230 columns):\n",
      " #    Column        Dtype  \n",
      "---   ------        -----  \n",
      " 0    NUMADULT      float64\n",
      " 1    NUMMEN        float64\n",
      " 2    NUMWOMEN      float64\n",
      " 3    PHYSHLTH      float64\n",
      " 4    MENTHLTH      float64\n",
      " 5    POORHLTH      float64\n",
      " 6    SLEPTIM1      float64\n",
      " 7    DIABAGE3      float64\n",
      " 8    CHILDREN      float64\n",
      " 9    AVEDRNK3      float64\n",
      " 10   MAXDRNKS      float64\n",
      " 11   FALL12MN      float64\n",
      " 12   DRNKDRI2      float64\n",
      " 13   MARIJAN1      float64\n",
      " 14   _MICHD        float64\n",
      " 15   _AGE80        float64\n",
      " 16   HTM4          float64\n",
      " 17   WTKG3         float64\n",
      " 18   _STATE_2.0    uint8  \n",
      " 19   _STATE_4.0    uint8  \n",
      " 20   _STATE_5.0    uint8  \n",
      " 21   _STATE_6.0    uint8  \n",
      " 22   _STATE_8.0    uint8  \n",
      " 23   _STATE_10.0   uint8  \n",
      " 24   _STATE_11.0   uint8  \n",
      " 25   _STATE_12.0   uint8  \n",
      " 26   _STATE_13.0   uint8  \n",
      " 27   _STATE_15.0   uint8  \n",
      " 28   _STATE_16.0   uint8  \n",
      " 29   _STATE_17.0   uint8  \n",
      " 30   _STATE_18.0   uint8  \n",
      " 31   _STATE_19.0   uint8  \n",
      " 32   _STATE_20.0   uint8  \n",
      " 33   _STATE_21.0   uint8  \n",
      " 34   _STATE_22.0   uint8  \n",
      " 35   _STATE_23.0   uint8  \n",
      " 36   _STATE_24.0   uint8  \n",
      " 37   _STATE_25.0   uint8  \n",
      " 38   _STATE_26.0   uint8  \n",
      " 39   _STATE_27.0   uint8  \n",
      " 40   _STATE_28.0   uint8  \n",
      " 41   _STATE_29.0   uint8  \n",
      " 42   _STATE_30.0   uint8  \n",
      " 43   _STATE_31.0   uint8  \n",
      " 44   _STATE_32.0   uint8  \n",
      " 45   _STATE_33.0   uint8  \n",
      " 46   _STATE_34.0   uint8  \n",
      " 47   _STATE_35.0   uint8  \n",
      " 48   _STATE_36.0   uint8  \n",
      " 49   _STATE_37.0   uint8  \n",
      " 50   _STATE_38.0   uint8  \n",
      " 51   _STATE_39.0   uint8  \n",
      " 52   _STATE_40.0   uint8  \n",
      " 53   _STATE_41.0   uint8  \n",
      " 54   _STATE_42.0   uint8  \n",
      " 55   _STATE_44.0   uint8  \n",
      " 56   _STATE_45.0   uint8  \n",
      " 57   _STATE_46.0   uint8  \n",
      " 58   _STATE_47.0   uint8  \n",
      " 59   _STATE_48.0   uint8  \n",
      " 60   _STATE_49.0   uint8  \n",
      " 61   _STATE_50.0   uint8  \n",
      " 62   _STATE_51.0   uint8  \n",
      " 63   _STATE_53.0   uint8  \n",
      " 64   _STATE_54.0   uint8  \n",
      " 65   _STATE_55.0   uint8  \n",
      " 66   _STATE_56.0   uint8  \n",
      " 67   _STATE_66.0   uint8  \n",
      " 68   _STATE_72.0   uint8  \n",
      " 69   PVTRESD1_2.0  uint8  \n",
      " 70   SEXVAR_2.0    uint8  \n",
      " 71   GENHLTH_2.0   uint8  \n",
      " 72   GENHLTH_3.0   uint8  \n",
      " 73   GENHLTH_4.0   uint8  \n",
      " 74   GENHLTH_5.0   uint8  \n",
      " 75   HLTHPLN1_2.0  uint8  \n",
      " 76   PERSDOC2_2.0  uint8  \n",
      " 77   PERSDOC2_3.0  uint8  \n",
      " 78   MEDCOST_2.0   uint8  \n",
      " 79   CHECKUP1_2.0  uint8  \n",
      " 80   CHECKUP1_3.0  uint8  \n",
      " 81   CHECKUP1_4.0  uint8  \n",
      " 82   CHECKUP1_8.0  uint8  \n",
      " 83   EXERANY2_2.0  uint8  \n",
      " 84   CVDSTRK3_2.0  uint8  \n",
      " 85   ASTHMA3_2.0   uint8  \n",
      " 86   ASTHNOW_1.0   uint8  \n",
      " 87   ASTHNOW_2.0   uint8  \n",
      " 88   CHCSCNCR_2.0  uint8  \n",
      " 89   CHCOCNCR_2.0  uint8  \n",
      " 90   CHCCOPD2_2.0  uint8  \n",
      " 91   HAVARTH4_2.0  uint8  \n",
      " 92   ADDEPEV3_2.0  uint8  \n",
      " 93   CHCKDNY2_2.0  uint8  \n",
      " 94   DIABETE4_2.0  uint8  \n",
      " 95   DIABETE4_3.0  uint8  \n",
      " 96   DIABETE4_4.0  uint8  \n",
      " 97   LASTDEN4_2.0  uint8  \n",
      " 98   LASTDEN4_3.0  uint8  \n",
      " 99   LASTDEN4_4.0  uint8  \n",
      " 100  LASTDEN4_8.0  uint8  \n",
      " 101  RMVTETH4_2.0  uint8  \n",
      " 102  RMVTETH4_3.0  uint8  \n",
      " 103  RMVTETH4_8.0  uint8  \n",
      " 104  MARITAL_2.0   uint8  \n",
      " 105  MARITAL_3.0   uint8  \n",
      " 106  MARITAL_4.0   uint8  \n",
      " 107  MARITAL_5.0   uint8  \n",
      " 108  MARITAL_6.0   uint8  \n",
      " 109  EDUCA_2.0     uint8  \n",
      " 110  EDUCA_3.0     uint8  \n",
      " 111  EDUCA_4.0     uint8  \n",
      " 112  EDUCA_5.0     uint8  \n",
      " 113  EDUCA_6.0     uint8  \n",
      " 114  RENTHOM1_2.0  uint8  \n",
      " 115  RENTHOM1_3.0  uint8  \n",
      " 116  VETERAN3_2.0  uint8  \n",
      " 117  DEAF_2.0      uint8  \n",
      " 118  BLIND_2.0     uint8  \n",
      " 119  DECIDE_2.0    uint8  \n",
      " 120  DIFFWALK_2.0  uint8  \n",
      " 121  DIFFALON_2.0  uint8  \n",
      " 122  USENOW3_2.0   uint8  \n",
      " 123  USENOW3_3.0   uint8  \n",
      " 124  FLUSHOT7_2.0  uint8  \n",
      " 125  PNEUVAC4_2.0  uint8  \n",
      " 126  PREGNANT_1.0  uint8  \n",
      " 127  PREGNANT_2.0  uint8  \n",
      " 128  HADMAM_1.0    uint8  \n",
      " 129  HADMAM_2.0    uint8  \n",
      " 130  HADPAP2_1.0   uint8  \n",
      " 131  HADPAP2_2.0   uint8  \n",
      " 132  HPVTEST_1.0   uint8  \n",
      " 133  HPVTEST_2.0   uint8  \n",
      " 134  HADHYST2_1.0  uint8  \n",
      " 135  HADHYST2_2.0  uint8  \n",
      " 136  PSATEST1_1.0  uint8  \n",
      " 137  PSATEST1_2.0  uint8  \n",
      " 138  COLNSCPY_1.0  uint8  \n",
      " 139  COLNSCPY_2.0  uint8  \n",
      " 140  SIGMSCPY_1.0  uint8  \n",
      " 141  SIGMSCPY_2.0  uint8  \n",
      " 142  BLDSTOL1_1.0  uint8  \n",
      " 143  BLDSTOL1_2.0  uint8  \n",
      " 144  SHINGLE2_1.0  uint8  \n",
      " 145  SHINGLE2_2.0  uint8  \n",
      " 146  LSTBLDS4_1.0  uint8  \n",
      " 147  LSTBLDS4_2.0  uint8  \n",
      " 148  LSTBLDS4_3.0  uint8  \n",
      " 149  LSTBLDS4_4.0  uint8  \n",
      " 150  LSTBLDS4_5.0  uint8  \n",
      " 151  STOOLDNA_1.0  uint8  \n",
      " 152  STOOLDNA_2.0  uint8  \n",
      " 153  VIRCOLON_1.0  uint8  \n",
      " 154  VIRCOLON_2.0  uint8  \n",
      " 155  HIVTST7_1.0   uint8  \n",
      " 156  HIVTST7_2.0   uint8  \n",
      " 157  PDIABTST_1.0  uint8  \n",
      " 158  PDIABTST_2.0  uint8  \n",
      " 159  PREDIAB1_1.0  uint8  \n",
      " 160  PREDIAB1_2.0  uint8  \n",
      " 161  PREDIAB1_3.0  uint8  \n",
      " 162  CIMEMLOS_1.0  uint8  \n",
      " 163  CIMEMLOS_2.0  uint8  \n",
      " 164  ECIGARET_2.0  uint8  \n",
      " 165  ECIGNOW_2.0   uint8  \n",
      " 166  ECIGNOW_3.0   uint8  \n",
      " 167  ACEDEPRS_2.0  uint8  \n",
      " 168  ACEDRINK_2.0  uint8  \n",
      " 169  ACEDRUGS_2.0  uint8  \n",
      " 170  ACEPRISN_2.0  uint8  \n",
      " 171  ACEDIVRC_2.0  uint8  \n",
      " 172  ACEDIVRC_8.0  uint8  \n",
      " 173  ACEPUNCH_2.0  uint8  \n",
      " 174  ACEPUNCH_3.0  uint8  \n",
      " 175  ACEHURT1_2.0  uint8  \n",
      " 176  ACEHURT1_3.0  uint8  \n",
      " 177  ACESWEAR_2.0  uint8  \n",
      " 178  ACESWEAR_3.0  uint8  \n",
      " 179  ACETOUCH_2.0  uint8  \n",
      " 180  ACETOUCH_3.0  uint8  \n",
      " 181  ACETTHEM_2.0  uint8  \n",
      " 182  ACETTHEM_3.0  uint8  \n",
      " 183  ACEHVSEX_2.0  uint8  \n",
      " 184  ACEHVSEX_3.0  uint8  \n",
      " 185  _METSTAT_2.0  uint8  \n",
      " 186  _URBSTAT_2.0  uint8  \n",
      " 187  _RFHLTH_2.0   uint8  \n",
      " 188  _PHYS14D_2.0  uint8  \n",
      " 189  _PHYS14D_3.0  uint8  \n",
      " 190  _MENT14D_2.0  uint8  \n",
      " 191  _MENT14D_3.0  uint8  \n",
      " 192  _HCVU651_2.0  uint8  \n",
      " 193  _TOTINDA_2.0  uint8  \n",
      " 194  _LTASTH1_2.0  uint8  \n",
      " 195  _CASTHM1_2.0  uint8  \n",
      " 196  _DRDXAR2_2.0  uint8  \n",
      " 197  _BMI5CAT_1.0  uint8  \n",
      " 198  _BMI5CAT_2.0  uint8  \n",
      " 199  _BMI5CAT_3.0  uint8  \n",
      " 200  _BMI5CAT_4.0  uint8  \n",
      " 201  _SMOKER3_2.0  uint8  \n",
      " 202  _SMOKER3_3.0  uint8  \n",
      " 203  _SMOKER3_4.0  uint8  \n",
      " 204  _PNEUMO3_1.0  uint8  \n",
      " 205  _PNEUMO3_2.0  uint8  \n",
      " 206  _CRCREC1_1.0  uint8  \n",
      " 207  _CRCREC1_2.0  uint8  \n",
      " 208  _CRCREC1_3.0  uint8  \n",
      " 209  _PRACE1_2.0   uint8  \n",
      " 210  _PRACE1_3.0   uint8  \n",
      " 211  _PRACE1_4.0   uint8  \n",
      " 212  _PRACE1_5.0   uint8  \n",
      " 213  _PRACE1_6.0   uint8  \n",
      " 214  _PRACE1_7.0   uint8  \n",
      " 215  _PRACE1_8.0   uint8  \n",
      " 216  EMPLOY1_2.0   uint8  \n",
      " 217  EMPLOY1_3.0   uint8  \n",
      " 218  EMPLOY1_4.0   uint8  \n",
      " 219  EMPLOY1_5.0   uint8  \n",
      " 220  EMPLOY1_6.0   uint8  \n",
      " 221  EMPLOY1_7.0   uint8  \n",
      " 222  EMPLOY1_8.0   uint8  \n",
      " 223  INCOME2_2.0   uint8  \n",
      " 224  INCOME2_3.0   uint8  \n",
      " 225  INCOME2_4.0   uint8  \n",
      " 226  INCOME2_5.0   uint8  \n",
      " 227  INCOME2_6.0   uint8  \n",
      " 228  INCOME2_7.0   uint8  \n",
      " 229  INCOME2_8.0   uint8  \n",
      "dtypes: float64(18), uint8(212)\n",
      "memory usage: 138.3 MB\n"
     ]
    }
   ],
   "source": [
    "cleaned_data.info(verbose=True,memory_usage='deep')"
   ]
  },
  {
   "cell_type": "code",
   "execution_count": null,
   "metadata": {
    "id": "91kcpScgNu8A"
   },
   "outputs": [],
   "source": [
    "# define features\n",
    "features = list(cleaned_data.drop(columns = [target], inplace = False).columns)"
   ]
  },
  {
   "cell_type": "code",
   "execution_count": null,
   "metadata": {
    "id": "HO2W-Cm8Nu8A"
   },
   "outputs": [],
   "source": [
    "# get the data\n",
    "y = cleaned_data[target]\n",
    "X = cleaned_data[features]"
   ]
  },
  {
   "cell_type": "code",
   "execution_count": null,
   "metadata": {
    "id": "L6EMr1kMNu8A"
   },
   "outputs": [],
   "source": [
    "# import function for split dataset\n",
    "from sklearn.model_selection import train_test_split\n",
    "\n",
    "# split date into train and test\n",
    "X_train, X_test, y_train, y_test = train_test_split(X, y, test_size=0.4, random_state = 42)"
   ]
  },
  {
   "cell_type": "markdown",
   "metadata": {
    "id": "x7Jgl4rpNu8A"
   },
   "source": [
    "# Model Building"
   ]
  },
  {
   "cell_type": "code",
   "execution_count": null,
   "metadata": {
    "id": "OsfLogdvNu8A"
   },
   "outputs": [],
   "source": [
    "# define the cost function and calculate the total cost for each threshold\n",
    "def calculate_cost(threshold, ypred_model_prob, y_test, cost_fp, cost_fn):\n",
    "    y_pred = [1 if i >= threshold else 0 for i in ypred_model_prob]\n",
    "    cm = confusion_matrix(y_test, y_pred,labels=[1,0])\n",
    "    fn = cm[0, 1]\n",
    "    fp = cm[1, 0]\n",
    "    cost = fp * cost_fp + fn * cost_fn\n",
    "    return cost"
   ]
  },
  {
   "cell_type": "markdown",
   "metadata": {
    "id": "tbNURs0o9VTh"
   },
   "source": [
    "## Decision Tree Model"
   ]
  },
  {
   "cell_type": "markdown",
   "metadata": {
    "id": "gK6h0XUgNu8A"
   },
   "source": [
    "### Building the model"
   ]
  },
  {
   "cell_type": "code",
   "execution_count": 28,
   "metadata": {
    "colab": {
     "base_uri": "https://localhost:8080/"
    },
    "id": "wPLnr49s9VTk",
    "outputId": "3a0f6b56-d225-4147-bb02-60d96b790238"
   },
   "outputs": [
    {
     "name": "stdout",
     "output_type": "stream",
     "text": [
      "Best Hyperparameters for Decision Tree classifier model:  {'max_depth': 13, 'max_leaf_nodes': 150}\n",
      "Best Score for Decision Tree classifier model:  0.08926152045619848\n"
     ]
    }
   ],
   "source": [
    "# define hyper-parameters\n",
    "DTM_try_grid = [{'max_depth':[1,3,5,7,9,11,13,15],\n",
    "              'max_leaf_nodes':[5, 10, 20, 50, 100,150]}]\n",
    "\n",
    "# define the model using GridSearchCV with scoring='recall'\n",
    "DTM = GridSearchCV(DecisionTreeClassifier(), param_grid=DTM_try_grid, cv=10, scoring='recall')\n",
    "DTM.fit(X_train, y_train)\n",
    "\n",
    "# find the best parameters and the best score\n",
    "DTM_best_params_ = DTM.best_params_\n",
    "DTM_best_score_ = DTM.best_score_\n",
    "print(\"Best Hyperparameters for Decision Tree classifier model: \",DTM_best_params_)\n",
    "print(\"Best Score for Decision Tree classifier model: \",DTM_best_score_)"
   ]
  },
  {
   "cell_type": "markdown",
   "metadata": {
    "id": "8LxUOwFsNu8B"
   },
   "source": [
    "### Train the model with the best hyperparameters"
   ]
  },
  {
   "cell_type": "code",
   "execution_count": null,
   "metadata": {
    "colab": {
     "base_uri": "https://localhost:8080/",
     "height": 74
    },
    "executionInfo": {
     "elapsed": 8789,
     "status": "ok",
     "timestamp": 1683628257359,
     "user": {
      "displayName": "Lily Luk",
      "userId": "09642630961590319976"
     },
     "user_tz": -480
    },
    "id": "tLdwbRcB9VTl",
    "outputId": "378119b5-f137-49c1-fee4-3a9b9882baac"
   },
   "outputs": [
    {
     "data": {
      "text/html": [
       "<style>#sk-container-id-3 {color: black;background-color: white;}#sk-container-id-3 pre{padding: 0;}#sk-container-id-3 div.sk-toggleable {background-color: white;}#sk-container-id-3 label.sk-toggleable__label {cursor: pointer;display: block;width: 100%;margin-bottom: 0;padding: 0.3em;box-sizing: border-box;text-align: center;}#sk-container-id-3 label.sk-toggleable__label-arrow:before {content: \"▸\";float: left;margin-right: 0.25em;color: #696969;}#sk-container-id-3 label.sk-toggleable__label-arrow:hover:before {color: black;}#sk-container-id-3 div.sk-estimator:hover label.sk-toggleable__label-arrow:before {color: black;}#sk-container-id-3 div.sk-toggleable__content {max-height: 0;max-width: 0;overflow: hidden;text-align: left;background-color: #f0f8ff;}#sk-container-id-3 div.sk-toggleable__content pre {margin: 0.2em;color: black;border-radius: 0.25em;background-color: #f0f8ff;}#sk-container-id-3 input.sk-toggleable__control:checked~div.sk-toggleable__content {max-height: 200px;max-width: 100%;overflow: auto;}#sk-container-id-3 input.sk-toggleable__control:checked~label.sk-toggleable__label-arrow:before {content: \"▾\";}#sk-container-id-3 div.sk-estimator input.sk-toggleable__control:checked~label.sk-toggleable__label {background-color: #d4ebff;}#sk-container-id-3 div.sk-label input.sk-toggleable__control:checked~label.sk-toggleable__label {background-color: #d4ebff;}#sk-container-id-3 input.sk-hidden--visually {border: 0;clip: rect(1px 1px 1px 1px);clip: rect(1px, 1px, 1px, 1px);height: 1px;margin: -1px;overflow: hidden;padding: 0;position: absolute;width: 1px;}#sk-container-id-3 div.sk-estimator {font-family: monospace;background-color: #f0f8ff;border: 1px dotted black;border-radius: 0.25em;box-sizing: border-box;margin-bottom: 0.5em;}#sk-container-id-3 div.sk-estimator:hover {background-color: #d4ebff;}#sk-container-id-3 div.sk-parallel-item::after {content: \"\";width: 100%;border-bottom: 1px solid gray;flex-grow: 1;}#sk-container-id-3 div.sk-label:hover label.sk-toggleable__label {background-color: #d4ebff;}#sk-container-id-3 div.sk-serial::before {content: \"\";position: absolute;border-left: 1px solid gray;box-sizing: border-box;top: 0;bottom: 0;left: 50%;z-index: 0;}#sk-container-id-3 div.sk-serial {display: flex;flex-direction: column;align-items: center;background-color: white;padding-right: 0.2em;padding-left: 0.2em;position: relative;}#sk-container-id-3 div.sk-item {position: relative;z-index: 1;}#sk-container-id-3 div.sk-parallel {display: flex;align-items: stretch;justify-content: center;background-color: white;position: relative;}#sk-container-id-3 div.sk-item::before, #sk-container-id-3 div.sk-parallel-item::before {content: \"\";position: absolute;border-left: 1px solid gray;box-sizing: border-box;top: 0;bottom: 0;left: 50%;z-index: -1;}#sk-container-id-3 div.sk-parallel-item {display: flex;flex-direction: column;z-index: 1;position: relative;background-color: white;}#sk-container-id-3 div.sk-parallel-item:first-child::after {align-self: flex-end;width: 50%;}#sk-container-id-3 div.sk-parallel-item:last-child::after {align-self: flex-start;width: 50%;}#sk-container-id-3 div.sk-parallel-item:only-child::after {width: 0;}#sk-container-id-3 div.sk-dashed-wrapped {border: 1px dashed gray;margin: 0 0.4em 0.5em 0.4em;box-sizing: border-box;padding-bottom: 0.4em;background-color: white;}#sk-container-id-3 div.sk-label label {font-family: monospace;font-weight: bold;display: inline-block;line-height: 1.2em;}#sk-container-id-3 div.sk-label-container {text-align: center;}#sk-container-id-3 div.sk-container {/* jupyter's `normalize.less` sets `[hidden] { display: none; }` but bootstrap.min.css set `[hidden] { display: none !important; }` so we also need the `!important` here to be able to override the default hidden behavior on the sphinx rendered scikit-learn.org. See: https://github.com/scikit-learn/scikit-learn/issues/21755 */display: inline-block !important;position: relative;}#sk-container-id-3 div.sk-text-repr-fallback {display: none;}</style><div id=\"sk-container-id-3\" class=\"sk-top-container\"><div class=\"sk-text-repr-fallback\"><pre>DecisionTreeClassifier(max_depth=13, max_leaf_nodes=150)</pre><b>In a Jupyter environment, please rerun this cell to show the HTML representation or trust the notebook. <br />On GitHub, the HTML representation is unable to render, please try loading this page with nbviewer.org.</b></div><div class=\"sk-container\" hidden><div class=\"sk-item\"><div class=\"sk-estimator sk-toggleable\"><input class=\"sk-toggleable__control sk-hidden--visually\" id=\"sk-estimator-id-3\" type=\"checkbox\" checked><label for=\"sk-estimator-id-3\" class=\"sk-toggleable__label sk-toggleable__label-arrow\">DecisionTreeClassifier</label><div class=\"sk-toggleable__content\"><pre>DecisionTreeClassifier(max_depth=13, max_leaf_nodes=150)</pre></div></div></div></div></div>"
      ],
      "text/plain": [
       "DecisionTreeClassifier(max_depth=13, max_leaf_nodes=150)"
      ]
     },
     "execution_count": 49,
     "metadata": {},
     "output_type": "execute_result"
    }
   ],
   "source": [
    "# build model using the best hyperparameters \n",
    "decison_tree_model = DTM.best_estimator_\n",
    "decison_tree_model.fit(X_train, y_train)"
   ]
  },
  {
   "cell_type": "code",
   "execution_count": null,
   "metadata": {
    "id": "kbB9wRz79VTm"
   },
   "outputs": [],
   "source": [
    "# make prediction \n",
    "ypred_decisiontree = decison_tree_model.predict(X_test)\n",
    "# calculate the probability of predictions\n",
    "ypred_decisiontree_prob = decison_tree_model.predict_proba(X_test)[:,1]"
   ]
  },
  {
   "cell_type": "code",
   "execution_count": null,
   "metadata": {
    "colab": {
     "base_uri": "https://localhost:8080/"
    },
    "executionInfo": {
     "elapsed": 17,
     "status": "ok",
     "timestamp": 1683628257361,
     "user": {
      "displayName": "Lily Luk",
      "userId": "09642630961590319976"
     },
     "user_tz": -480
    },
    "id": "SJ0PkElz9VTn",
    "outputId": "6fa3f4e6-00ae-4989-9eb1-891602caa018"
   },
   "outputs": [
    {
     "name": "stdout",
     "output_type": "stream",
     "text": [
      "Accuracy: 0.9147814627717988\n",
      "Confusion Matrix:\n",
      " [[144606   1132]\n",
      " [ 12448   1169]]\n",
      "MAE: 0.08521853722820119\n"
     ]
    }
   ],
   "source": [
    "# calculate accuracy, confusion matrix and MAE for test set before setting decision threhold\n",
    "decisiontree_accuracy_score = accuracy_score(y_test,ypred_decisiontree)\n",
    "decisiontree_confusion_matrix = confusion_matrix(y_test,ypred_decisiontree)\n",
    "decisiontree_mean_absolute_error = mean_absolute_error( y_test,ypred_decisiontree)\n",
    "\n",
    "print(\"Accuracy:\", decisiontree_accuracy_score)\n",
    "print(\"Confusion Matrix:\\n\", decisiontree_confusion_matrix)\n",
    "print(\"MAE:\", decisiontree_mean_absolute_error)"
   ]
  },
  {
   "cell_type": "code",
   "execution_count": null,
   "metadata": {
    "colab": {
     "base_uri": "https://localhost:8080/"
    },
    "executionInfo": {
     "elapsed": 19,
     "status": "ok",
     "timestamp": 1683628768529,
     "user": {
      "displayName": "Lily Luk",
      "userId": "09642630961590319976"
     },
     "user_tz": -480
    },
    "id": "vxdLxZgFNu8B",
    "outputId": "48f0a601-9af7-4ae8-eb61-b309fadf07d1"
   },
   "outputs": [
    {
     "name": "stdout",
     "output_type": "stream",
     "text": [
      "True negative : 144606\n",
      "False Positive : 1132\n",
      "False Negative : 12448\n",
      "True Positive : 1169\n"
     ]
    }
   ],
   "source": [
    "decisiontree_tn, decisiontree_fp, decisiontree_fn, decisiontree_tp = confusion_matrix(y_test, ypred_decisiontree).ravel()\n",
    "print(\"True negative :\", decisiontree_tn)\n",
    "print(\"False Positive :\", decisiontree_fp)\n",
    "print(\"False Negative :\", decisiontree_fn)\n",
    "print(\"True Positive :\", decisiontree_tp)"
   ]
  },
  {
   "cell_type": "code",
   "execution_count": null,
   "metadata": {
    "colab": {
     "base_uri": "https://localhost:8080/",
     "height": 507
    },
    "executionInfo": {
     "elapsed": 4150,
     "status": "ok",
     "timestamp": 1683628800065,
     "user": {
      "displayName": "Lily Luk",
      "userId": "09642630961590319976"
     },
     "user_tz": -480
    },
    "id": "XJdQBrPTNu8B",
    "outputId": "1d9e623b-e4f2-48bc-f049-c42cb24f0642",
    "scrolled": true
   },
   "outputs": [
    {
     "name": "stdout",
     "output_type": "stream",
     "text": [
      "Precision score: 0.5080399826162538\n",
      "Recall score: 0.08584857163839318\n"
     ]
    },
    {
     "data": {
      "image/png": "[encoded data removed]",
      "text/plain": [
       "<Figure size 640x480 with 1 Axes>"
      ]
     },
     "metadata": {},
     "output_type": "display_data"
    }
   ],
   "source": [
    "# define precision recall curve before setting decision threhold\n",
    "decisiontree_precision, decisiontree_recall, decisiontree_thresholds = precision_recall_curve(y_test,ypred_decisiontree)\n",
    "\n",
    "# calculate the precision and recall score\n",
    "print(\"Precision score:\", decisiontree_precision[1])\n",
    "print(\"Recall score:\",  decisiontree_recall[1])\n",
    "\n",
    "# plot the precision-recall curve\n",
    "plt.plot(decisiontree_recall,  decisiontree_precision, color='blue')\n",
    "plt.xlabel('Recall Score')\n",
    "plt.ylabel('Precision Score')\n",
    "plt.title('Precision-Recall Curve')\n",
    "plt.show()"
   ]
  },
  {
   "cell_type": "markdown",
   "metadata": {
    "id": "UTR-qaq79VTp"
   },
   "source": [
    "### Find the minimun cost and optimal decision threshold"
   ]
  },
  {
   "cell_type": "code",
   "execution_count": null,
   "metadata": {
    "colab": {
     "base_uri": "https://localhost:8080/",
     "height": 564
    },
    "executionInfo": {
     "elapsed": 58236,
     "status": "ok",
     "timestamp": 1683628877568,
     "user": {
      "displayName": "Lily Luk",
      "userId": "09642630961590319976"
     },
     "user_tz": -480
    },
    "id": "eidGRBWI9VTq",
    "outputId": "070d5942-1181-470a-aa8e-e16a655f230a"
   },
   "outputs": [
    {
     "data": {
      "image/png": "[encoded data removed]",
      "text/plain": [
       "<Figure size 800x600 with 1 Axes>"
      ]
     },
     "metadata": {},
     "output_type": "display_data"
    }
   ],
   "source": [
    "# find the cost for different threshold\n",
    "threshold = np.linspace(0, 1, 101)\n",
    "costs = [calculate_cost(t, ypred_decisiontree_prob, y_test, cost_fp=10, cost_fn=100) for t in threshold]\n",
    "\n",
    "# find the optimal threshold and corresponding cost\n",
    "decisiontree_optimal_threshold = threshold[np.argmin(costs)]\n",
    "decisiontree_min_cost = np.min(costs)\n",
    "\n",
    "# plot the cost curve with the optimal decision threshold and corresponding cost\n",
    "plt.figure(figsize=(8, 6))\n",
    "plt.plot(threshold, costs, label='Cost curve')\n",
    "plt.axvline(decisiontree_optimal_threshold, linestyle='--', color='r', label=f'Optimal threshold: {decisiontree_optimal_threshold:.2f}')\n",
    "plt.scatter(decisiontree_optimal_threshold, decisiontree_min_cost, color='r', label=f'Min cost: {decisiontree_min_cost}')\n",
    "plt.xlabel('Decision Threshold')\n",
    "plt.ylabel('Total Cost')\n",
    "plt.title('Cost Curve with Decision Threshold')\n",
    "plt.legend()\n",
    "plt.show()"
   ]
  },
  {
   "cell_type": "code",
   "execution_count": null,
   "metadata": {
    "id": "Rlc4VWshNu8B"
   },
   "outputs": [],
   "source": [
    "# use the optimal threshold to find predicted probabilities\n",
    "ypred_decisiontree_prob_1_withCost= [1 if i >= decisiontree_optimal_threshold else 0 for i in ypred_decisiontree_prob]"
   ]
  },
  {
   "cell_type": "code",
   "execution_count": null,
   "metadata": {
    "colab": {
     "base_uri": "https://localhost:8080/",
     "height": 576
    },
    "executionInfo": {
     "elapsed": 1095,
     "status": "ok",
     "timestamp": 1683628938793,
     "user": {
      "displayName": "Lily Luk",
      "userId": "09642630961590319976"
     },
     "user_tz": -480
    },
    "id": "5fymq6qFNu8B",
    "outputId": "713bfd85-3e25-4ccb-a762-75cc7293a293",
    "scrolled": true
   },
   "outputs": [
    {
     "data": {
      "image/png": "[encoded data removed]",
      "text/plain": [
       "<Figure size 640x480 with 1 Axes>"
      ]
     },
     "metadata": {},
     "output_type": "display_data"
    },
    {
     "name": "stdout",
     "output_type": "stream",
     "text": [
      "Precision score: 0.2138734136481567\n",
      "Recall score: 0.7809355952118675\n",
      "MAE: 0.2640017570832418\n",
      "Confusion Matrix:\n",
      " [[106651  39087]\n",
      " [  2983  10634]]\n"
     ]
    }
   ],
   "source": [
    "decisiontree_precision_withCost, decisiontree_recall_withCost, decisiontree_thresholds_withCost = precision_recall_curve(y_test,ypred_decisiontree_prob_1_withCost)\n",
    "\n",
    "# plot the new precision-recall curve\n",
    "plt.plot(decisiontree_recall_withCost, decisiontree_precision_withCost, color='blue')\n",
    "plt.xlabel('Recall Score')\n",
    "plt.ylabel('Precision Score')\n",
    "plt.title('Precision-Recall Curve')\n",
    "plt.show()\n",
    "\n",
    "# calculate the new precision and recall score, MAE, and confusion matrix\n",
    "decisiontree_mae_withCost = mean_absolute_error(y_test,ypred_decisiontree_prob_1_withCost)\n",
    "decisiontree_confusion_matrix_withCost = confusion_matrix(y_test,ypred_decisiontree_prob_1_withCost)\n",
    "print(\"Precision score:\", decisiontree_precision_withCost[1])\n",
    "print(\"Recall score:\", decisiontree_recall_withCost[1])\n",
    "print(\"MAE:\",decisiontree_mae_withCost)\n",
    "print(\"Confusion Matrix:\\n\", decisiontree_confusion_matrix_withCost)"
   ]
  },
  {
   "cell_type": "code",
   "execution_count": null,
   "metadata": {
    "colab": {
     "base_uri": "https://localhost:8080/"
    },
    "executionInfo": {
     "elapsed": 1085,
     "status": "ok",
     "timestamp": 1683628982934,
     "user": {
      "displayName": "Lily Luk",
      "userId": "09642630961590319976"
     },
     "user_tz": -480
    },
    "id": "bcOju-MSD5zK",
    "outputId": "8f584f95-c9b6-4649-f8b3-6020d3867c37"
   },
   "outputs": [
    {
     "name": "stdout",
     "output_type": "stream",
     "text": [
      "True negative : 106651\n",
      "False Positive : 39087\n",
      "False Negative : 2983\n",
      "True Positive : 10634\n"
     ]
    }
   ],
   "source": [
    "decisiontree_tn_withCost, decisiontree_fp_withCost, decisiontree_fn_withCost, decisiontree_tp_withCost = confusion_matrix(y_test, ypred_decisiontree_prob_1_withCost).ravel()\n",
    "print(\"True negative :\", decisiontree_tn_withCost)\n",
    "print(\"False Positive :\", decisiontree_fp_withCost)\n",
    "print(\"False Negative :\", decisiontree_fn_withCost)\n",
    "print(\"True Positive :\", decisiontree_tp_withCost)"
   ]
  },
  {
   "cell_type": "markdown",
   "metadata": {
    "id": "OnOlBfQF9VTs"
   },
   "source": [
    "## Logistic Regression Model"
   ]
  },
  {
   "cell_type": "markdown",
   "metadata": {
    "id": "_dXcLfUwNu8B"
   },
   "source": [
    "### Building the model"
   ]
  },
  {
   "cell_type": "code",
   "execution_count": null,
   "metadata": {
    "id": "tLb0dWwWNu8B"
   },
   "outputs": [],
   "source": [
    "# define hyper-parameters\n",
    "LM_try_grid = [{\n",
    "    'C': [2**i for i in np.arange(-1, 2, 0.5)],  # Inverse of regularization strength\n",
    "    'solver': ['saga'],  # Algorithm to use in the optimization problem\n",
    "    'penalty': ['l1']  # Specify the norm used in the penalization\n",
    "}]\n",
    "\n",
    "\n",
    "# define the model using GridSearchCV with scoring='recall'\n",
    "LM = GridSearchCV(LogisticRegression(max_iter=2000), param_grid=LM_try_grid, cv=10, scoring='recall')\n",
    "LM.fit(X_train, y_train)\n",
    "\n",
    "# find the best parameters and the best score\n",
    "LM_best_params_ = LM.best_params_\n",
    "LM_best_score_ = LM.best_score_\n",
    "print(\"Best Hyperparameters for Logistic Regression model: \",LM_best_params_)\n",
    "print(\"Best Score for Logistic Regression model: \",LM_best_score_)"
   ]
  },
  {
   "cell_type": "markdown",
   "metadata": {
    "id": "Yzz-i6NwNu8B"
   },
   "source": [
    "### Train the model with the best hyperparameters"
   ]
  },
  {
   "cell_type": "code",
   "execution_count": null,
   "metadata": {
    "colab": {
     "base_uri": "https://localhost:8080/",
     "height": 91
    },
    "executionInfo": {
     "elapsed": 162934,
     "status": "ok",
     "timestamp": 1683629291513,
     "user": {
      "displayName": "Lily Luk",
      "userId": "09642630961590319976"
     },
     "user_tz": -480
    },
    "id": "cPeCRfYvNu8B",
    "outputId": "6006eb0f-b20e-438d-9dde-c4f2a0c8640c"
   },
   "outputs": [
    {
     "data": {
      "text/html": [
       "<style>#sk-container-id-4 {color: black;background-color: white;}#sk-container-id-4 pre{padding: 0;}#sk-container-id-4 div.sk-toggleable {background-color: white;}#sk-container-id-4 label.sk-toggleable__label {cursor: pointer;display: block;width: 100%;margin-bottom: 0;padding: 0.3em;box-sizing: border-box;text-align: center;}#sk-container-id-4 label.sk-toggleable__label-arrow:before {content: \"▸\";float: left;margin-right: 0.25em;color: #696969;}#sk-container-id-4 label.sk-toggleable__label-arrow:hover:before {color: black;}#sk-container-id-4 div.sk-estimator:hover label.sk-toggleable__label-arrow:before {color: black;}#sk-container-id-4 div.sk-toggleable__content {max-height: 0;max-width: 0;overflow: hidden;text-align: left;background-color: #f0f8ff;}#sk-container-id-4 div.sk-toggleable__content pre {margin: 0.2em;color: black;border-radius: 0.25em;background-color: #f0f8ff;}#sk-container-id-4 input.sk-toggleable__control:checked~div.sk-toggleable__content {max-height: 200px;max-width: 100%;overflow: auto;}#sk-container-id-4 input.sk-toggleable__control:checked~label.sk-toggleable__label-arrow:before {content: \"▾\";}#sk-container-id-4 div.sk-estimator input.sk-toggleable__control:checked~label.sk-toggleable__label {background-color: #d4ebff;}#sk-container-id-4 div.sk-label input.sk-toggleable__control:checked~label.sk-toggleable__label {background-color: #d4ebff;}#sk-container-id-4 input.sk-hidden--visually {border: 0;clip: rect(1px 1px 1px 1px);clip: rect(1px, 1px, 1px, 1px);height: 1px;margin: -1px;overflow: hidden;padding: 0;position: absolute;width: 1px;}#sk-container-id-4 div.sk-estimator {font-family: monospace;background-color: #f0f8ff;border: 1px dotted black;border-radius: 0.25em;box-sizing: border-box;margin-bottom: 0.5em;}#sk-container-id-4 div.sk-estimator:hover {background-color: #d4ebff;}#sk-container-id-4 div.sk-parallel-item::after {content: \"\";width: 100%;border-bottom: 1px solid gray;flex-grow: 1;}#sk-container-id-4 div.sk-label:hover label.sk-toggleable__label {background-color: #d4ebff;}#sk-container-id-4 div.sk-serial::before {content: \"\";position: absolute;border-left: 1px solid gray;box-sizing: border-box;top: 0;bottom: 0;left: 50%;z-index: 0;}#sk-container-id-4 div.sk-serial {display: flex;flex-direction: column;align-items: center;background-color: white;padding-right: 0.2em;padding-left: 0.2em;position: relative;}#sk-container-id-4 div.sk-item {position: relative;z-index: 1;}#sk-container-id-4 div.sk-parallel {display: flex;align-items: stretch;justify-content: center;background-color: white;position: relative;}#sk-container-id-4 div.sk-item::before, #sk-container-id-4 div.sk-parallel-item::before {content: \"\";position: absolute;border-left: 1px solid gray;box-sizing: border-box;top: 0;bottom: 0;left: 50%;z-index: -1;}#sk-container-id-4 div.sk-parallel-item {display: flex;flex-direction: column;z-index: 1;position: relative;background-color: white;}#sk-container-id-4 div.sk-parallel-item:first-child::after {align-self: flex-end;width: 50%;}#sk-container-id-4 div.sk-parallel-item:last-child::after {align-self: flex-start;width: 50%;}#sk-container-id-4 div.sk-parallel-item:only-child::after {width: 0;}#sk-container-id-4 div.sk-dashed-wrapped {border: 1px dashed gray;margin: 0 0.4em 0.5em 0.4em;box-sizing: border-box;padding-bottom: 0.4em;background-color: white;}#sk-container-id-4 div.sk-label label {font-family: monospace;font-weight: bold;display: inline-block;line-height: 1.2em;}#sk-container-id-4 div.sk-label-container {text-align: center;}#sk-container-id-4 div.sk-container {/* jupyter's `normalize.less` sets `[hidden] { display: none; }` but bootstrap.min.css set `[hidden] { display: none !important; }` so we also need the `!important` here to be able to override the default hidden behavior on the sphinx rendered scikit-learn.org. See: https://github.com/scikit-learn/scikit-learn/issues/21755 */display: inline-block !important;position: relative;}#sk-container-id-4 div.sk-text-repr-fallback {display: none;}</style><div id=\"sk-container-id-4\" class=\"sk-top-container\"><div class=\"sk-text-repr-fallback\"><pre>LogisticRegression(C=1.4142135623730951, max_iter=2000, penalty=&#x27;l1&#x27;,\n",
       "                   solver=&#x27;saga&#x27;)</pre><b>In a Jupyter environment, please rerun this cell to show the HTML representation or trust the notebook. <br />On GitHub, the HTML representation is unable to render, please try loading this page with nbviewer.org.</b></div><div class=\"sk-container\" hidden><div class=\"sk-item\"><div class=\"sk-estimator sk-toggleable\"><input class=\"sk-toggleable__control sk-hidden--visually\" id=\"sk-estimator-id-4\" type=\"checkbox\" checked><label for=\"sk-estimator-id-4\" class=\"sk-toggleable__label sk-toggleable__label-arrow\">LogisticRegression</label><div class=\"sk-toggleable__content\"><pre>LogisticRegression(C=1.4142135623730951, max_iter=2000, penalty=&#x27;l1&#x27;,\n",
       "                   solver=&#x27;saga&#x27;)</pre></div></div></div></div></div>"
      ],
      "text/plain": [
       "LogisticRegression(C=1.4142135623730951, max_iter=2000, penalty='l1',\n",
       "                   solver='saga')"
      ]
     },
     "execution_count": 58,
     "metadata": {},
     "output_type": "execute_result"
    }
   ],
   "source": [
    "# build model using the best hyperparameters \n",
    "logistic_model = LM.best_estimator_\n",
    "logistic_model.fit(X_train, y_train)"
   ]
  },
  {
   "cell_type": "code",
   "execution_count": null,
   "metadata": {
    "id": "MFBmeGkoNu8C"
   },
   "outputs": [],
   "source": [
    "# make prediction \n",
    "ypred_logistic = logistic_model.predict(X_test)\n",
    "# calculate the probability of predictions\n",
    "ypred_logistic_prob = logistic_model.predict_proba(X_test)[:,1]"
   ]
  },
  {
   "cell_type": "code",
   "execution_count": null,
   "metadata": {
    "colab": {
     "base_uri": "https://localhost:8080/"
    },
    "executionInfo": {
     "elapsed": 30,
     "status": "ok",
     "timestamp": 1683629293578,
     "user": {
      "displayName": "Lily Luk",
      "userId": "09642630961590319976"
     },
     "user_tz": -480
    },
    "id": "KFOVBXhHNu8C",
    "outputId": "5c2cf73d-c646-4efe-823e-6ad6ae64d2a3"
   },
   "outputs": [
    {
     "name": "stdout",
     "output_type": "stream",
     "text": [
      "Accuracy: 0.9162373317435913\n",
      "Confusion Matrix:\n",
      " [[144303   1435]\n",
      " [ 11913   1704]]\n",
      "MAE: 0.08376266825640864\n"
     ]
    }
   ],
   "source": [
    "# calculate accuracy, confusion matrix and MAE for test set before setting decision threhold\n",
    "logistic_accuracy_score = accuracy_score(y_test,ypred_logistic)\n",
    "logistic_confusion_matrix = confusion_matrix(y_test,ypred_logistic)\n",
    "logistic_mean_absolute_error = mean_absolute_error( y_test,ypred_logistic)\n",
    "\n",
    "print(\"Accuracy:\", logistic_accuracy_score)\n",
    "print(\"Confusion Matrix:\\n\", logistic_confusion_matrix)\n",
    "print(\"MAE:\",logistic_mean_absolute_error)"
   ]
  },
  {
   "cell_type": "code",
   "execution_count": null,
   "metadata": {
    "colab": {
     "base_uri": "https://localhost:8080/"
    },
    "executionInfo": {
     "elapsed": 29,
     "status": "ok",
     "timestamp": 1683629293579,
     "user": {
      "displayName": "Lily Luk",
      "userId": "09642630961590319976"
     },
     "user_tz": -480
    },
    "id": "FuicmRBnNu8C",
    "outputId": "d207fe32-da4b-42dc-f7e0-9c9c93710aee"
   },
   "outputs": [
    {
     "name": "stdout",
     "output_type": "stream",
     "text": [
      "True negative : 144303\n",
      "False Positive : 1435\n",
      "False Negative : 11913\n",
      "True Positive : 1704\n"
     ]
    }
   ],
   "source": [
    "logistic_tn, logistic_fp, logistic_fn, logistic_tp = confusion_matrix(y_test, ypred_logistic).ravel()\n",
    "print(\"True negative :\", logistic_tn)\n",
    "print(\"False Positive :\", logistic_fp)\n",
    "print(\"False Negative :\", logistic_fn)\n",
    "print(\"True Positive :\", logistic_tp)"
   ]
  },
  {
   "cell_type": "code",
   "execution_count": null,
   "metadata": {
    "colab": {
     "base_uri": "https://localhost:8080/",
     "height": 507
    },
    "executionInfo": {
     "elapsed": 22,
     "status": "ok",
     "timestamp": 1683629293579,
     "user": {
      "displayName": "Lily Luk",
      "userId": "09642630961590319976"
     },
     "user_tz": -480
    },
    "id": "vEJTzV6ZNu8C",
    "outputId": "32806335-f2ad-4770-90c8-60f74143a9f3",
    "scrolled": true
   },
   "outputs": [
    {
     "name": "stdout",
     "output_type": "stream",
     "text": [
      "Precision score: 0.5428480407773176\n",
      "Recall score: 0.12513769552764925\n"
     ]
    },
    {
     "data": {
      "image/png": "[encoded data removed]",
      "text/plain": [
       "<Figure size 640x480 with 1 Axes>"
      ]
     },
     "metadata": {},
     "output_type": "display_data"
    }
   ],
   "source": [
    "# define precision recall curve before setting decision threhold\n",
    "logistic_precision, logistic_recall, logistic_thresholds = precision_recall_curve(y_test,ypred_logistic)\n",
    "\n",
    "# calculate the precision and recall score\n",
    "print(\"Precision score:\", logistic_precision[1])\n",
    "print(\"Recall score:\",  logistic_recall[1])\n",
    "\n",
    "# plot the precision-recall curve\n",
    "plt.plot(logistic_recall,  logistic_precision, color='blue')\n",
    "plt.xlabel('Recall Score')\n",
    "plt.ylabel('Precision Score')\n",
    "plt.title('Precision-Recall Curve')\n",
    "plt.show()"
   ]
  },
  {
   "cell_type": "markdown",
   "metadata": {
    "id": "lcQFf4pPNu8C"
   },
   "source": [
    "### Find the minimun cost and optimal decision threshold"
   ]
  },
  {
   "cell_type": "code",
   "execution_count": null,
   "metadata": {
    "colab": {
     "base_uri": "https://localhost:8080/",
     "height": 564
    },
    "executionInfo": {
     "elapsed": 55920,
     "status": "ok",
     "timestamp": 1683629349488,
     "user": {
      "displayName": "Lily Luk",
      "userId": "09642630961590319976"
     },
     "user_tz": -480
    },
    "id": "7w97ef5KNu8C",
    "outputId": "663c1446-e468-4b40-df4c-292d3e19ca24"
   },
   "outputs": [
    {
     "data": {
      "image/png": "[encoded data removed]",
      "text/plain": [
       "<Figure size 800x600 with 1 Axes>"
      ]
     },
     "metadata": {},
     "output_type": "display_data"
    }
   ],
   "source": [
    "# find the cost for different threshold\n",
    "threshold = np.linspace(0, 1, 101)\n",
    "costs = [calculate_cost(t, ypred_logistic_prob, y_test, cost_fp=10, cost_fn=100) for t in threshold]\n",
    "\n",
    "# find the optimal threshold and corresponding cost\n",
    "logistic_optimal_threshold = threshold[np.argmin(costs)]\n",
    "logistic_min_cost = np.min(costs)\n",
    "\n",
    "# plot the cost curve with the optimal decision threshold and corresponding cost\n",
    "plt.figure(figsize=(8, 6))\n",
    "plt.plot(threshold, costs, label='Cost curve')\n",
    "plt.axvline(logistic_optimal_threshold, linestyle='--', color='r', label=f'Optimal threshold: {logistic_optimal_threshold:.2f}')\n",
    "plt.scatter(logistic_optimal_threshold, logistic_min_cost, color='r', label=f'Min cost: {logistic_min_cost}')\n",
    "plt.xlabel('Decision Threshold')\n",
    "plt.ylabel('Total Cost')\n",
    "plt.title('Cost Curve with Decision Threshold')\n",
    "plt.legend()\n",
    "plt.show()"
   ]
  },
  {
   "cell_type": "code",
   "execution_count": null,
   "metadata": {
    "id": "HUDi2_4GNu8C"
   },
   "outputs": [],
   "source": [
    "# use the optimal threshold to find predicted probabilities\n",
    "ypred_logistic_prob_1_withCost = [1 if i >= logistic_optimal_threshold else 0 for i in ypred_logistic_prob]"
   ]
  },
  {
   "cell_type": "code",
   "execution_count": null,
   "metadata": {
    "colab": {
     "base_uri": "https://localhost:8080/",
     "height": 576
    },
    "executionInfo": {
     "elapsed": 13,
     "status": "ok",
     "timestamp": 1683629349489,
     "user": {
      "displayName": "Lily Luk",
      "userId": "09642630961590319976"
     },
     "user_tz": -480
    },
    "id": "zJSxpclENu8C",
    "outputId": "a8476956-7bea-4af6-e1e3-ecbf9b30667d",
    "scrolled": true
   },
   "outputs": [
    {
     "data": {
      "image/png": "[encoded data removed]",
      "text/plain": [
       "<Figure size 640x480 with 1 Axes>"
      ]
     },
     "metadata": {},
     "output_type": "display_data"
    },
    {
     "name": "stdout",
     "output_type": "stream",
     "text": [
      "Precision score: 0.22052406137510808\n",
      "Recall score: 0.8053168833076302\n",
      "MAE: 0.25987261146496815\n",
      "Confusion Matrix:\n",
      " [[106977  38761]\n",
      " [  2651  10966]]\n"
     ]
    }
   ],
   "source": [
    "logistic_precision_withCost, logistic_recall_withCost, logistic_thresholds_withCost = precision_recall_curve(y_test,ypred_logistic_prob_1_withCost)\n",
    "\n",
    "# plot the new precision-recall curve\n",
    "plt.plot(logistic_recall_withCost, logistic_precision_withCost, color='blue')\n",
    "plt.xlabel('Recall Score')\n",
    "plt.ylabel('Precision Score')\n",
    "plt.title('Precision-Recall Curve')\n",
    "plt.show()\n",
    "\n",
    "# calculate the new precision and recall score, MAE, and confusion matrix\n",
    "logistic_mae_withCost = mean_absolute_error(y_test,ypred_logistic_prob_1_withCost)\n",
    "logistic_confusion_matrix_withCost = confusion_matrix(y_test,ypred_logistic_prob_1_withCost)\n",
    "print(\"Precision score:\", logistic_precision_withCost[1])\n",
    "print(\"Recall score:\", logistic_recall_withCost[1])\n",
    "print(\"MAE:\",logistic_mae_withCost)\n",
    "print(\"Confusion Matrix:\\n\", logistic_confusion_matrix_withCost)"
   ]
  },
  {
   "cell_type": "code",
   "execution_count": null,
   "metadata": {
    "colab": {
     "base_uri": "https://localhost:8080/"
    },
    "executionInfo": {
     "elapsed": 10,
     "status": "ok",
     "timestamp": 1683629349489,
     "user": {
      "displayName": "Lily Luk",
      "userId": "09642630961590319976"
     },
     "user_tz": -480
    },
    "id": "PYGTkEh79VTv",
    "outputId": "64708696-d922-4b45-b224-ab9db19cec74"
   },
   "outputs": [
    {
     "name": "stdout",
     "output_type": "stream",
     "text": [
      "True negative : 106977\n",
      "False Positive : 38761\n",
      "False Negative : 2651\n",
      "True Positive : 10966\n"
     ]
    }
   ],
   "source": [
    "logistic_tn_withCost, logistic_fp_withCost, logistic_fn_withCost, logistic_tp_withCost = confusion_matrix(y_test, ypred_logistic_prob_1_withCost).ravel()\n",
    "print(\"True negative :\", logistic_tn_withCost)\n",
    "print(\"False Positive :\", logistic_fp_withCost)\n",
    "print(\"False Negative :\", logistic_fn_withCost)\n",
    "print(\"True Positive :\", logistic_tp_withCost)"
   ]
  },
  {
   "cell_type": "markdown",
   "metadata": {
    "id": "B4tXcaZ-Nu8C"
   },
   "source": [
    "## Naive bayes Model¶"
   ]
  },
  {
   "cell_type": "markdown",
   "metadata": {
    "id": "wX6MRsYtNu8C"
   },
   "source": [
    "### Building the model"
   ]
  },
  {
   "cell_type": "code",
   "execution_count": null,
   "metadata": {
    "colab": {
     "base_uri": "https://localhost:8080/",
     "height": 74
    },
    "executionInfo": {
     "elapsed": 1005,
     "status": "ok",
     "timestamp": 1683629350488,
     "user": {
      "displayName": "Lily Luk",
      "userId": "09642630961590319976"
     },
     "user_tz": -480
    },
    "id": "YG5yBQU2Nu8C",
    "outputId": "00fd3fe9-21a2-437c-b0d5-ff24431dfd5c"
   },
   "outputs": [
    {
     "data": {
      "text/html": [
       "<style>#sk-container-id-5 {color: black;background-color: white;}#sk-container-id-5 pre{padding: 0;}#sk-container-id-5 div.sk-toggleable {background-color: white;}#sk-container-id-5 label.sk-toggleable__label {cursor: pointer;display: block;width: 100%;margin-bottom: 0;padding: 0.3em;box-sizing: border-box;text-align: center;}#sk-container-id-5 label.sk-toggleable__label-arrow:before {content: \"▸\";float: left;margin-right: 0.25em;color: #696969;}#sk-container-id-5 label.sk-toggleable__label-arrow:hover:before {color: black;}#sk-container-id-5 div.sk-estimator:hover label.sk-toggleable__label-arrow:before {color: black;}#sk-container-id-5 div.sk-toggleable__content {max-height: 0;max-width: 0;overflow: hidden;text-align: left;background-color: #f0f8ff;}#sk-container-id-5 div.sk-toggleable__content pre {margin: 0.2em;color: black;border-radius: 0.25em;background-color: #f0f8ff;}#sk-container-id-5 input.sk-toggleable__control:checked~div.sk-toggleable__content {max-height: 200px;max-width: 100%;overflow: auto;}#sk-container-id-5 input.sk-toggleable__control:checked~label.sk-toggleable__label-arrow:before {content: \"▾\";}#sk-container-id-5 div.sk-estimator input.sk-toggleable__control:checked~label.sk-toggleable__label {background-color: #d4ebff;}#sk-container-id-5 div.sk-label input.sk-toggleable__control:checked~label.sk-toggleable__label {background-color: #d4ebff;}#sk-container-id-5 input.sk-hidden--visually {border: 0;clip: rect(1px 1px 1px 1px);clip: rect(1px, 1px, 1px, 1px);height: 1px;margin: -1px;overflow: hidden;padding: 0;position: absolute;width: 1px;}#sk-container-id-5 div.sk-estimator {font-family: monospace;background-color: #f0f8ff;border: 1px dotted black;border-radius: 0.25em;box-sizing: border-box;margin-bottom: 0.5em;}#sk-container-id-5 div.sk-estimator:hover {background-color: #d4ebff;}#sk-container-id-5 div.sk-parallel-item::after {content: \"\";width: 100%;border-bottom: 1px solid gray;flex-grow: 1;}#sk-container-id-5 div.sk-label:hover label.sk-toggleable__label {background-color: #d4ebff;}#sk-container-id-5 div.sk-serial::before {content: \"\";position: absolute;border-left: 1px solid gray;box-sizing: border-box;top: 0;bottom: 0;left: 50%;z-index: 0;}#sk-container-id-5 div.sk-serial {display: flex;flex-direction: column;align-items: center;background-color: white;padding-right: 0.2em;padding-left: 0.2em;position: relative;}#sk-container-id-5 div.sk-item {position: relative;z-index: 1;}#sk-container-id-5 div.sk-parallel {display: flex;align-items: stretch;justify-content: center;background-color: white;position: relative;}#sk-container-id-5 div.sk-item::before, #sk-container-id-5 div.sk-parallel-item::before {content: \"\";position: absolute;border-left: 1px solid gray;box-sizing: border-box;top: 0;bottom: 0;left: 50%;z-index: -1;}#sk-container-id-5 div.sk-parallel-item {display: flex;flex-direction: column;z-index: 1;position: relative;background-color: white;}#sk-container-id-5 div.sk-parallel-item:first-child::after {align-self: flex-end;width: 50%;}#sk-container-id-5 div.sk-parallel-item:last-child::after {align-self: flex-start;width: 50%;}#sk-container-id-5 div.sk-parallel-item:only-child::after {width: 0;}#sk-container-id-5 div.sk-dashed-wrapped {border: 1px dashed gray;margin: 0 0.4em 0.5em 0.4em;box-sizing: border-box;padding-bottom: 0.4em;background-color: white;}#sk-container-id-5 div.sk-label label {font-family: monospace;font-weight: bold;display: inline-block;line-height: 1.2em;}#sk-container-id-5 div.sk-label-container {text-align: center;}#sk-container-id-5 div.sk-container {/* jupyter's `normalize.less` sets `[hidden] { display: none; }` but bootstrap.min.css set `[hidden] { display: none !important; }` so we also need the `!important` here to be able to override the default hidden behavior on the sphinx rendered scikit-learn.org. See: https://github.com/scikit-learn/scikit-learn/issues/21755 */display: inline-block !important;position: relative;}#sk-container-id-5 div.sk-text-repr-fallback {display: none;}</style><div id=\"sk-container-id-5\" class=\"sk-top-container\"><div class=\"sk-text-repr-fallback\"><pre>MultinomialNB()</pre><b>In a Jupyter environment, please rerun this cell to show the HTML representation or trust the notebook. <br />On GitHub, the HTML representation is unable to render, please try loading this page with nbviewer.org.</b></div><div class=\"sk-container\" hidden><div class=\"sk-item\"><div class=\"sk-estimator sk-toggleable\"><input class=\"sk-toggleable__control sk-hidden--visually\" id=\"sk-estimator-id-5\" type=\"checkbox\" checked><label for=\"sk-estimator-id-5\" class=\"sk-toggleable__label sk-toggleable__label-arrow\">MultinomialNB</label><div class=\"sk-toggleable__content\"><pre>MultinomialNB()</pre></div></div></div></div></div>"
      ],
      "text/plain": [
       "MultinomialNB()"
      ]
     },
     "execution_count": 67,
     "metadata": {},
     "output_type": "execute_result"
    }
   ],
   "source": [
    "# build model \n",
    "naive_bayes_model = MultinomialNB()\n",
    "naive_bayes_model.fit(X_train, y_train)"
   ]
  },
  {
   "cell_type": "code",
   "execution_count": null,
   "metadata": {
    "id": "SBNJD_hkNu8C"
   },
   "outputs": [],
   "source": [
    "# make prediction \n",
    "ypred_naivebayes = naive_bayes_model.predict(X_test)\n",
    "# calculate the probability of predictions\n",
    "ypred_naivebayes_prob = naive_bayes_model.predict_proba(X_test)[:,1]"
   ]
  },
  {
   "cell_type": "code",
   "execution_count": null,
   "metadata": {
    "colab": {
     "base_uri": "https://localhost:8080/"
    },
    "executionInfo": {
     "elapsed": 11,
     "status": "ok",
     "timestamp": 1683629350490,
     "user": {
      "displayName": "Lily Luk",
      "userId": "09642630961590319976"
     },
     "user_tz": -480
    },
    "id": "xNvHtzL0Nu8C",
    "outputId": "e9f5f4a3-7653-482a-c24f-970a4cc38de8"
   },
   "outputs": [
    {
     "name": "stdout",
     "output_type": "stream",
     "text": [
      "Accuracy: 0.8234507859809859\n",
      "Confusion Matrix:\n",
      " [[123304  22434]\n",
      " [  5700   7917]]\n",
      "MAE: 0.17654921401901416\n"
     ]
    }
   ],
   "source": [
    "# calculate accuracy, confusion matrix and MAE for test set before setting decision threhold\n",
    "naivebayes_accuracy_score = accuracy_score(y_test,ypred_naivebayes)\n",
    "naivebayes_confusion_matrix = confusion_matrix(y_test,ypred_naivebayes)\n",
    "naivebayes_mean_absolute_error = mean_absolute_error( y_test,ypred_naivebayes)\n",
    "\n",
    "print(\"Accuracy:\", naivebayes_accuracy_score)\n",
    "print(\"Confusion Matrix:\\n\", naivebayes_confusion_matrix)\n",
    "print(\"MAE:\", naivebayes_mean_absolute_error)"
   ]
  },
  {
   "cell_type": "code",
   "execution_count": null,
   "metadata": {
    "colab": {
     "base_uri": "https://localhost:8080/"
    },
    "executionInfo": {
     "elapsed": 860,
     "status": "ok",
     "timestamp": 1683629351345,
     "user": {
      "displayName": "Lily Luk",
      "userId": "09642630961590319976"
     },
     "user_tz": -480
    },
    "id": "wjJZLvdsNu8C",
    "outputId": "b26a3fba-45d5-4f8a-b224-8037cb34140f"
   },
   "outputs": [
    {
     "name": "stdout",
     "output_type": "stream",
     "text": [
      "True negative : 123304\n",
      "False Positive : 22434\n",
      "False Negative : 5700\n",
      "True Positive : 7917\n"
     ]
    }
   ],
   "source": [
    "naivebayes_tn, naivebayes_fp, naivebayes_fn, naivebayes_tp = confusion_matrix(y_test, ypred_naivebayes).ravel()\n",
    "print(\"True negative :\", naivebayes_tn)\n",
    "print(\"False Positive :\", naivebayes_fp)\n",
    "print(\"False Negative :\", naivebayes_fn)\n",
    "print(\"True Positive :\", naivebayes_tp)"
   ]
  },
  {
   "cell_type": "code",
   "execution_count": null,
   "metadata": {
    "colab": {
     "base_uri": "https://localhost:8080/",
     "height": 507
    },
    "executionInfo": {
     "elapsed": 9,
     "status": "ok",
     "timestamp": 1683629351345,
     "user": {
      "displayName": "Lily Luk",
      "userId": "09642630961590319976"
     },
     "user_tz": -480
    },
    "id": "SYqngZHfNu8C",
    "outputId": "6ad95ded-0645-4b82-c42d-cd5ee0ccef5b",
    "scrolled": true
   },
   "outputs": [
    {
     "name": "stdout",
     "output_type": "stream",
     "text": [
      "Precision score: 0.26084807749332806\n",
      "Recall score: 0.5814055959462436\n"
     ]
    },
    {
     "data": {
      "image/png": "[encoded data removed]",
      "text/plain": [
       "<Figure size 640x480 with 1 Axes>"
      ]
     },
     "metadata": {},
     "output_type": "display_data"
    }
   ],
   "source": [
    "# define precision recall curve before setting decision threhold\n",
    "naivebayes_precision, naivebayes_recall, naivebayes_thresholds = precision_recall_curve(y_test,ypred_naivebayes)\n",
    "\n",
    "# calculate the precision and naivebayes_precision score\n",
    "print(\"Precision score:\", naivebayes_precision[1])\n",
    "print(\"Recall score:\",  naivebayes_recall[1])\n",
    "\n",
    "# plot the precision-recall curve\n",
    "plt.plot(naivebayes_recall,  naivebayes_precision, color='blue')\n",
    "plt.xlabel('Recall Score')\n",
    "plt.ylabel('Precision Score')\n",
    "plt.title('Precision-Recall Curve')\n",
    "plt.show()"
   ]
  },
  {
   "cell_type": "markdown",
   "metadata": {
    "id": "d7WziWuuNu8C"
   },
   "source": [
    "### Find the minimun cost and optimal decision threshold"
   ]
  },
  {
   "cell_type": "code",
   "execution_count": null,
   "metadata": {
    "colab": {
     "base_uri": "https://localhost:8080/",
     "height": 564
    },
    "executionInfo": {
     "elapsed": 50838,
     "status": "ok",
     "timestamp": 1683629427843,
     "user": {
      "displayName": "Lily Luk",
      "userId": "09642630961590319976"
     },
     "user_tz": -480
    },
    "id": "IbYJhV5DNu8D",
    "outputId": "beb12f25-539d-4529-ac13-352c51b200c6"
   },
   "outputs": [
    {
     "data": {
      "image/png": "[encoded data removed]",
      "text/plain": [
       "<Figure size 800x600 with 1 Axes>"
      ]
     },
     "metadata": {},
     "output_type": "display_data"
    }
   ],
   "source": [
    "# find the cost for different threshold\n",
    "threshold = np.linspace(0, 1, 101)\n",
    "costs = [calculate_cost(t, ypred_naivebayes_prob, y_test, cost_fp=10, cost_fn=100) for t in threshold]\n",
    "\n",
    "# find the optimal threshold and corresponding cost\n",
    "naivebayes_optimal_threshold = threshold[np.argmin(costs)]\n",
    "naivebayes_min_cost = np.min(costs)\n",
    "\n",
    "# plot the cost curve with the optimal decision threshold and corresponding cost\n",
    "plt.figure(figsize=(8, 6))\n",
    "plt.plot(threshold, costs, label='Cost curve')\n",
    "plt.axvline(naivebayes_optimal_threshold, linestyle='--', color='r', label=f'Optimal threshold: {naivebayes_optimal_threshold:.2f}')\n",
    "plt.scatter(naivebayes_optimal_threshold, naivebayes_min_cost, color='r', label=f'Min cost: {naivebayes_min_cost}')\n",
    "plt.xlabel('Decision Threshold')\n",
    "plt.ylabel('Total Cost')\n",
    "plt.title('Cost Curve with Decision Threshold')\n",
    "plt.legend()\n",
    "plt.show()"
   ]
  },
  {
   "cell_type": "code",
   "execution_count": null,
   "metadata": {
    "id": "IA35dXlYNu8D"
   },
   "outputs": [],
   "source": [
    "# use the optimal threshold to find predicted probabilities\n",
    "ypred_naivebayes_prob_1_withCost= [1 if i >= naivebayes_optimal_threshold else 0 for i in ypred_naivebayes_prob]"
   ]
  },
  {
   "cell_type": "code",
   "execution_count": null,
   "metadata": {
    "colab": {
     "base_uri": "https://localhost:8080/",
     "height": 576
    },
    "executionInfo": {
     "elapsed": 1573,
     "status": "ok",
     "timestamp": 1683629490348,
     "user": {
      "displayName": "Lily Luk",
      "userId": "09642630961590319976"
     },
     "user_tz": -480
    },
    "id": "ukekcjSrNu8D",
    "outputId": "897e8226-deff-4ba7-d442-15809c08517f",
    "scrolled": false
   },
   "outputs": [
    {
     "data": {
      "image/png": "[encoded data removed]",
      "text/plain": [
       "<Figure size 640x480 with 1 Axes>"
      ]
     },
     "metadata": {},
     "output_type": "display_data"
    },
    {
     "name": "stdout",
     "output_type": "stream",
     "text": [
      "Precision score: 0.20350769348982845\n",
      "Recall score: 0.7779980906220166\n",
      "MAE: 0.2791628753412193\n",
      "Confusion Matrix:\n",
      " [[104275  41463]\n",
      " [  3023  10594]]\n"
     ]
    }
   ],
   "source": [
    "naivebayes_precision_withCost, naivebayes_recall_withCost, naivebayes_thresholds_withCost = precision_recall_curve(y_test,ypred_naivebayes_prob_1_withCost)\n",
    "\n",
    "# plot the new precision-recall curve\n",
    "plt.plot(naivebayes_recall_withCost, naivebayes_precision_withCost, color='blue')\n",
    "plt.xlabel('Recall Score')\n",
    "plt.ylabel('Precision Score')\n",
    "plt.title('Precision-Recall Curve')\n",
    "plt.show()\n",
    "\n",
    "# calculate the new precision and recall score, MAE, and confusion matrix\n",
    "naivebayes_mae_withCost = mean_absolute_error(y_test,ypred_naivebayes_prob_1_withCost)\n",
    "naivebayes_confusion_matrix_withCost = confusion_matrix(y_test,ypred_naivebayes_prob_1_withCost)\n",
    "print(\"Precision score:\", naivebayes_precision_withCost[1])\n",
    "print(\"Recall score:\", naivebayes_recall_withCost[1])\n",
    "print(\"MAE:\",naivebayes_mae_withCost)\n",
    "print(\"Confusion Matrix:\\n\", naivebayes_confusion_matrix_withCost)"
   ]
  },
  {
   "cell_type": "code",
   "execution_count": null,
   "metadata": {
    "colab": {
     "base_uri": "https://localhost:8080/"
    },
    "executionInfo": {
     "elapsed": 6,
     "status": "ok",
     "timestamp": 1683629506750,
     "user": {
      "displayName": "Lily Luk",
      "userId": "09642630961590319976"
     },
     "user_tz": -480
    },
    "id": "EcqXg-At9VTz",
    "outputId": "d2f5cd8a-3926-4557-9568-5e6d914ee0ae"
   },
   "outputs": [
    {
     "name": "stdout",
     "output_type": "stream",
     "text": [
      "True negative : 104275\n",
      "False Positive : 41463\n",
      "False Negative : 3023\n",
      "True Positive : 10594\n"
     ]
    }
   ],
   "source": [
    "naivebayes_tn_withCost, naivebayes_fp_withCost, naivebayes_fn_withCost, naivebayes_tp_withCost = confusion_matrix(y_test, ypred_naivebayes_prob_1_withCost).ravel()\n",
    "print(\"True negative :\", naivebayes_tn_withCost)\n",
    "print(\"False Positive :\", naivebayes_fp_withCost)\n",
    "print(\"False Negative :\", naivebayes_fn_withCost)\n",
    "print(\"True Positive :\", naivebayes_tp_withCost)"
   ]
  },
  {
   "cell_type": "markdown",
   "metadata": {
    "id": "S6O-AEm19VTz"
   },
   "source": [
    "## KNN Model"
   ]
  },
  {
   "cell_type": "markdown",
   "metadata": {
    "id": "mzAWgbFBNu8D"
   },
   "source": [
    "### Building the model considering recall"
   ]
  },
  {
   "cell_type": "code",
   "execution_count": null,
   "metadata": {
    "colab": {
     "background_save": true
    },
    "id": "tMKlC7f1Nu8D",
    "outputId": "902c4373-1538-462d-d111-e3f6e183f16c"
   },
   "outputs": [
    {
     "name": "stdout",
     "output_type": "stream",
     "text": [
      "Best Hyperparameters for KNN model:  {'n_neighbors': 1}\n",
      "Best Score for KNN model:  0.18426878182029247\n"
     ]
    }
   ],
   "source": [
    "# define hyper-parameters\n",
    "KNN_try_grid = [{'n_neighbors':range(1, 10)}]\n",
    "\n",
    "# define the model using GridSearchCV with scoring='recall'\n",
    "KNN = GridSearchCV(KNeighborsClassifier(), param_grid=KNN_try_grid, cv=10,scoring='recall')\n",
    "KNN.fit(X_train, y_train)\n",
    "\n",
    "# find the best parameters and the best score\n",
    "KNN_best_params_ = KNN.best_params_\n",
    "KNN_best_score_ = KNN.best_score_\n",
    "KNN_best_estimator_ = KNN.best_estimator_\n",
    "\n",
    "print(\"Best Hyperparameters for KNN model: \",KNN_best_params_)\n",
    "print(\"Best Score for KNN model: \",KNN_best_score_)"
   ]
  },
  {
   "cell_type": "markdown",
   "metadata": {
    "id": "eJ7IW90ARPnD"
   },
   "source": [
    "### Building the model considering the accuracy "
   ]
  },
  {
   "cell_type": "code",
   "execution_count": null,
   "metadata": {
    "colab": {
     "background_save": true
    },
    "id": "YcJ3HiI6RPnD",
    "outputId": "ab84738d-eae7-4f67-eddc-b23d826be335"
   },
   "outputs": [
    {
     "name": "stdout",
     "output_type": "stream",
     "text": [
      "Best Hyperparameters for KNN model:  {'n_neighbors': 8}\n",
      "Best Score for KNN model:  0.9135011228797267\n"
     ]
    }
   ],
   "source": [
    "# define hyper-parameters\n",
    "KNN_try_grid = [{'n_neighbors':range(1, 10)}]\n",
    "\n",
    "# define the model using GridSearchCV with scoring='recall'\n",
    "KNN2 = GridSearchCV(KNeighborsClassifier(), param_grid=KNN_try_grid, cv=10)\n",
    "KNN2.fit(X_train, y_train)\n",
    "\n",
    "# find the best parameters and the best score\n",
    "KNN2_best_params_ = KNN2.best_params_\n",
    "KNN2_best_score_ = KNN2.best_score_\n",
    "\n",
    "print(\"Best Hyperparameters for KNN model: \",KNN2_best_params_)\n",
    "print(\"Best Score for KNN model: \",KNN2_best_score_)"
   ]
  },
  {
   "cell_type": "markdown",
   "metadata": {
    "id": "SAi3VPmxRPnD"
   },
   "source": [
    "### Train the model with the best hyperparameters\n",
    "\n"
   ]
  },
  {
   "cell_type": "code",
   "execution_count": null,
   "metadata": {
    "colab": {
     "base_uri": "https://localhost:8080/",
     "height": 75
    },
    "executionInfo": {
     "elapsed": 1585,
     "status": "ok",
     "timestamp": 1683620756626,
     "user": {
      "displayName": "Lily Luk",
      "userId": "09642630961590319976"
     },
     "user_tz": -480
    },
    "id": "asoi_0VVRPnD",
    "outputId": "fd3e292e-d7ee-46c4-dcd9-b94a4ad00304",
    "scrolled": true
   },
   "outputs": [
    {
     "data": {
      "text/html": [
       "<style>#sk-container-id-1 {color: black;background-color: white;}#sk-container-id-1 pre{padding: 0;}#sk-container-id-1 div.sk-toggleable {background-color: white;}#sk-container-id-1 label.sk-toggleable__label {cursor: pointer;display: block;width: 100%;margin-bottom: 0;padding: 0.3em;box-sizing: border-box;text-align: center;}#sk-container-id-1 label.sk-toggleable__label-arrow:before {content: \"▸\";float: left;margin-right: 0.25em;color: #696969;}#sk-container-id-1 label.sk-toggleable__label-arrow:hover:before {color: black;}#sk-container-id-1 div.sk-estimator:hover label.sk-toggleable__label-arrow:before {color: black;}#sk-container-id-1 div.sk-toggleable__content {max-height: 0;max-width: 0;overflow: hidden;text-align: left;background-color: #f0f8ff;}#sk-container-id-1 div.sk-toggleable__content pre {margin: 0.2em;color: black;border-radius: 0.25em;background-color: #f0f8ff;}#sk-container-id-1 input.sk-toggleable__control:checked~div.sk-toggleable__content {max-height: 200px;max-width: 100%;overflow: auto;}#sk-container-id-1 input.sk-toggleable__control:checked~label.sk-toggleable__label-arrow:before {content: \"▾\";}#sk-container-id-1 div.sk-estimator input.sk-toggleable__control:checked~label.sk-toggleable__label {background-color: #d4ebff;}#sk-container-id-1 div.sk-label input.sk-toggleable__control:checked~label.sk-toggleable__label {background-color: #d4ebff;}#sk-container-id-1 input.sk-hidden--visually {border: 0;clip: rect(1px 1px 1px 1px);clip: rect(1px, 1px, 1px, 1px);height: 1px;margin: -1px;overflow: hidden;padding: 0;position: absolute;width: 1px;}#sk-container-id-1 div.sk-estimator {font-family: monospace;background-color: #f0f8ff;border: 1px dotted black;border-radius: 0.25em;box-sizing: border-box;margin-bottom: 0.5em;}#sk-container-id-1 div.sk-estimator:hover {background-color: #d4ebff;}#sk-container-id-1 div.sk-parallel-item::after {content: \"\";width: 100%;border-bottom: 1px solid gray;flex-grow: 1;}#sk-container-id-1 div.sk-label:hover label.sk-toggleable__label {background-color: #d4ebff;}#sk-container-id-1 div.sk-serial::before {content: \"\";position: absolute;border-left: 1px solid gray;box-sizing: border-box;top: 0;bottom: 0;left: 50%;z-index: 0;}#sk-container-id-1 div.sk-serial {display: flex;flex-direction: column;align-items: center;background-color: white;padding-right: 0.2em;padding-left: 0.2em;position: relative;}#sk-container-id-1 div.sk-item {position: relative;z-index: 1;}#sk-container-id-1 div.sk-parallel {display: flex;align-items: stretch;justify-content: center;background-color: white;position: relative;}#sk-container-id-1 div.sk-item::before, #sk-container-id-1 div.sk-parallel-item::before {content: \"\";position: absolute;border-left: 1px solid gray;box-sizing: border-box;top: 0;bottom: 0;left: 50%;z-index: -1;}#sk-container-id-1 div.sk-parallel-item {display: flex;flex-direction: column;z-index: 1;position: relative;background-color: white;}#sk-container-id-1 div.sk-parallel-item:first-child::after {align-self: flex-end;width: 50%;}#sk-container-id-1 div.sk-parallel-item:last-child::after {align-self: flex-start;width: 50%;}#sk-container-id-1 div.sk-parallel-item:only-child::after {width: 0;}#sk-container-id-1 div.sk-dashed-wrapped {border: 1px dashed gray;margin: 0 0.4em 0.5em 0.4em;box-sizing: border-box;padding-bottom: 0.4em;background-color: white;}#sk-container-id-1 div.sk-label label {font-family: monospace;font-weight: bold;display: inline-block;line-height: 1.2em;}#sk-container-id-1 div.sk-label-container {text-align: center;}#sk-container-id-1 div.sk-container {/* jupyter's `normalize.less` sets `[hidden] { display: none; }` but bootstrap.min.css set `[hidden] { display: none !important; }` so we also need the `!important` here to be able to override the default hidden behavior on the sphinx rendered scikit-learn.org. See: https://github.com/scikit-learn/scikit-learn/issues/21755 */display: inline-block !important;position: relative;}#sk-container-id-1 div.sk-text-repr-fallback {display: none;}</style><div id=\"sk-container-id-1\" class=\"sk-top-container\"><div class=\"sk-text-repr-fallback\"><pre>KNeighborsClassifier(n_neighbors=8)</pre><b>In a Jupyter environment, please rerun this cell to show the HTML representation or trust the notebook. <br />On GitHub, the HTML representation is unable to render, please try loading this page with nbviewer.org.</b></div><div class=\"sk-container\" hidden><div class=\"sk-item\"><div class=\"sk-estimator sk-toggleable\"><input class=\"sk-toggleable__control sk-hidden--visually\" id=\"sk-estimator-id-1\" type=\"checkbox\" checked><label for=\"sk-estimator-id-1\" class=\"sk-toggleable__label sk-toggleable__label-arrow\">KNeighborsClassifier</label><div class=\"sk-toggleable__content\"><pre>KNeighborsClassifier(n_neighbors=8)</pre></div></div></div></div></div>"
      ],
      "text/plain": [
       "KNeighborsClassifier(n_neighbors=8)"
      ]
     },
     "execution_count": 28,
     "metadata": {},
     "output_type": "execute_result"
    }
   ],
   "source": [
    "# build model using the best hyperparameters \n",
    "knn_model2 = KNN2.best_estimator_\n",
    "knn_model2.fit(X_train, y_train)"
   ]
  },
  {
   "cell_type": "code",
   "execution_count": null,
   "metadata": {
    "id": "qloT11-jRPnD"
   },
   "outputs": [],
   "source": [
    "# make prediction \n",
    "ypred_knn2 = knn_model2.predict(X_test)\n",
    "# calculate the probability of predictions\n",
    "ypred_knn2_prob = knn_model2.predict_proba(X_test)[:,1]"
   ]
  },
  {
   "cell_type": "code",
   "execution_count": null,
   "metadata": {
    "colab": {
     "base_uri": "https://localhost:8080/"
    },
    "executionInfo": {
     "elapsed": 21,
     "status": "ok",
     "timestamp": 1683622422169,
     "user": {
      "displayName": "Lily Luk",
      "userId": "09642630961590319976"
     },
     "user_tz": -480
    },
    "id": "Eembm7aCRPnE",
    "outputId": "8e1061fb-f715-4eb1-a3c1-4b3510ea12d0"
   },
   "outputs": [
    {
     "name": "stdout",
     "output_type": "stream",
     "text": [
      "Accuracy: 0.9144739732044805\n",
      "Confusion Matrix:\n",
      " [[145268    470]\n",
      " [ 13159    458]]\n",
      "MAE: 0.08552602679551943\n"
     ]
    }
   ],
   "source": [
    "# calculate accuracy, confusion matrix and MAE for test set before setting decision threhold\n",
    "knn2_accuracy_score = accuracy_score(y_test,ypred_knn2)\n",
    "knn2_confusion_matrix = confusion_matrix(y_test,ypred_knn2)\n",
    "knn2_mean_absolute_error = mean_absolute_error( y_test,ypred_knn2)\n",
    "\n",
    "print(\"Accuracy:\", knn2_accuracy_score)\n",
    "print(\"Confusion Matrix:\\n\", knn2_confusion_matrix)\n",
    "print(\"MAE:\", knn2_mean_absolute_error)"
   ]
  },
  {
   "cell_type": "code",
   "execution_count": null,
   "metadata": {
    "colab": {
     "base_uri": "https://localhost:8080/"
    },
    "executionInfo": {
     "elapsed": 7,
     "status": "ok",
     "timestamp": 1683622422169,
     "user": {
      "displayName": "Lily Luk",
      "userId": "09642630961590319976"
     },
     "user_tz": -480
    },
    "id": "HogJaUqBRPnE",
    "outputId": "4706c765-a284-42a2-80d4-50306780e3a9"
   },
   "outputs": [
    {
     "name": "stdout",
     "output_type": "stream",
     "text": [
      "True negative : 145268\n",
      "False Positive : 470\n",
      "False Negative : 13159\n",
      "True Positive : 458\n"
     ]
    }
   ],
   "source": [
    "knn2_tn, knn2_fp, knn2_fn, knn2_tp = confusion_matrix(y_test, ypred_knn2).ravel()\n",
    "print(\"True negative :\", knn2_tn)\n",
    "print(\"False Positive :\", knn2_fp)\n",
    "print(\"False Negative :\", knn2_fn)\n",
    "print(\"True Positive :\", knn2_tp)"
   ]
  },
  {
   "cell_type": "code",
   "execution_count": null,
   "metadata": {
    "colab": {
     "base_uri": "https://localhost:8080/",
     "height": 508
    },
    "executionInfo": {
     "elapsed": 6,
     "status": "ok",
     "timestamp": 1683622422170,
     "user": {
      "displayName": "Lily Luk",
      "userId": "09642630961590319976"
     },
     "user_tz": -480
    },
    "id": "Bfs9jYtiRPnE",
    "outputId": "5f92ca0c-30e0-4ff8-cce4-ef5649d4c329",
    "scrolled": true
   },
   "outputs": [
    {
     "data": {
      "image/png": "[encoded data removed]",
      "text/plain": [
       "<Figure size 640x480 with 1 Axes>"
      ]
     },
     "metadata": {},
     "output_type": "display_data"
    },
    {
     "name": "stdout",
     "output_type": "stream",
     "text": [
      "Precision score: 0.49353448275862066\n",
      "Recall score: 0.033634427553793055\n"
     ]
    }
   ],
   "source": [
    "knn2_precision, knn2_recall, knn2_thresholds = precision_recall_curve(y_test,ypred_knn2)\n",
    "\n",
    "# plot the new precision-recall curve\n",
    "plt.plot(knn2_recall, knn2_precision, color='blue')\n",
    "plt.xlabel('Recall Score')\n",
    "plt.ylabel('Precision Score')\n",
    "plt.title('Precision-Recall Curve')\n",
    "plt.show()\n",
    "\n",
    "# calculate the new precision and recall score\n",
    "print(\"Precision score:\", knn2_precision[1])\n",
    "print(\"Recall score:\", knn2_recall[1])"
   ]
  },
  {
   "cell_type": "code",
   "execution_count": null,
   "metadata": {
    "id": "nPr5u-tLNu8D"
   },
   "outputs": [],
   "source": []
  },
  {
   "cell_type": "markdown",
   "metadata": {
    "id": "MdDs49_6wG6H"
   },
   "source": [
    "### Find the minimun cost and optimal decision threshold"
   ]
  },
  {
   "cell_type": "code",
   "execution_count": null,
   "metadata": {
    "colab": {
     "base_uri": "https://localhost:8080/",
     "height": 564
    },
    "executionInfo": {
     "elapsed": 55970,
     "status": "ok",
     "timestamp": 1683623713592,
     "user": {
      "displayName": "Lily Luk",
      "userId": "09642630961590319976"
     },
     "user_tz": -480
    },
    "id": "iLk7wTzPNu8D",
    "outputId": "75f6bbc7-9965-44da-b683-0e7d56dcb4ba"
   },
   "outputs": [
    {
     "data": {
      "image/png": "[encoded data removed]",
      "text/plain": [
       "<Figure size 800x600 with 1 Axes>"
      ]
     },
     "metadata": {},
     "output_type": "display_data"
    }
   ],
   "source": [
    "# find the cost for different threshold\n",
    "threshold = np.linspace(0, 1, 101)\n",
    "costs = [calculate_cost(t, ypred_knn2_prob, y_test, cost_fp=10, cost_fn=100) for t in threshold]\n",
    "\n",
    "# find the optimal threshold and corresponding cost\n",
    "knn2_optimal_threshold = threshold[np.argmin(costs)]\n",
    "knn2_min_cost = np.min(costs)\n",
    "\n",
    "# plot the cost curve with the optimal decision threshold and corresponding cost\n",
    "plt.figure(figsize=(8, 6))\n",
    "plt.plot(threshold, costs, label='Cost curve')\n",
    "plt.axvline(knn2_optimal_threshold, linestyle='--', color='r', label=f'Optimal threshold: {knn2_optimal_threshold:.2f}')\n",
    "plt.scatter(knn2_optimal_threshold, knn2_min_cost, color='r', label=f'Min cost: {knn2_min_cost}')\n",
    "plt.xlabel('Decision Threshold')\n",
    "plt.ylabel('Total Cost')\n",
    "plt.title('Cost Curve with Decision Threshold')\n",
    "plt.legend()\n",
    "plt.show()"
   ]
  },
  {
   "cell_type": "code",
   "execution_count": null,
   "metadata": {
    "id": "QOSVl9YwNu8D"
   },
   "outputs": [],
   "source": [
    "# use the optimal threshold to find predicted probabilities\n",
    "ypred_knn2_prob_1_withCost= [1 if i >= knn2_optimal_threshold else 0 for i in ypred_knn2_prob]"
   ]
  },
  {
   "cell_type": "code",
   "execution_count": null,
   "metadata": {
    "colab": {
     "base_uri": "https://localhost:8080/",
     "height": 576
    },
    "executionInfo": {
     "elapsed": 1874,
     "status": "ok",
     "timestamp": 1683623866754,
     "user": {
      "displayName": "Lily Luk",
      "userId": "09642630961590319976"
     },
     "user_tz": -480
    },
    "id": "ceTmKtw8Nu8D",
    "outputId": "c731f9c1-7b92-4d45-bfa4-0d5a9a2603b5"
   },
   "outputs": [
    {
     "data": {
      "image/png": "[encoded data removed]",
      "text/plain": [
       "<Figure size 640x480 with 1 Axes>"
      ]
     },
     "metadata": {},
     "output_type": "display_data"
    },
    {
     "name": "stdout",
     "output_type": "stream",
     "text": [
      "Precision score: 0.1841943922177716\n",
      "Recall score: 0.6618932217081589\n",
      "MAE: 0.27939506134103104\n",
      "Confusion Matrix:\n",
      " [[105819  39919]\n",
      " [  4604   9013]]\n"
     ]
    }
   ],
   "source": [
    "knn2_precision_withCost, knn2_recall_withCost, knn2_thresholds_withCost = precision_recall_curve(y_test,ypred_knn2_prob_1_withCost)\n",
    "\n",
    "# plot the new precision-recall curve\n",
    "plt.plot(knn2_recall_withCost, knn2_precision_withCost, color='blue')\n",
    "plt.xlabel('Recall Score')\n",
    "plt.ylabel('Precision Score')\n",
    "plt.title('Precision-Recall Curve')\n",
    "plt.show()\n",
    "\n",
    "# calculate the new precision and recall score, MAE, and confusion matrix\n",
    "knn2_mae_withCost = mean_absolute_error(y_test,ypred_knn2_prob_1_withCost)\n",
    "knn2_confusion_matrix_withCost = confusion_matrix(y_test,ypred_knn2_prob_1_withCost)\n",
    "print(\"Precision score:\", knn2_precision_withCost[1])\n",
    "print(\"Recall score:\", knn2_recall_withCost[1])\n",
    "print(\"MAE:\",knn2_mae_withCost)\n",
    "print(\"Confusion Matrix:\\n\", knn2_confusion_matrix_withCost)"
   ]
  },
  {
   "cell_type": "code",
   "execution_count": null,
   "metadata": {
    "id": "j1rBZoqaNu8E"
   },
   "outputs": [],
   "source": []
  },
  {
   "cell_type": "code",
   "execution_count": null,
   "metadata": {
    "colab": {
     "base_uri": "https://localhost:8080/"
    },
    "executionInfo": {
     "elapsed": 1679,
     "status": "ok",
     "timestamp": 1683623946452,
     "user": {
      "displayName": "Lily Luk",
      "userId": "09642630961590319976"
     },
     "user_tz": -480
    },
    "id": "kg_OYgwhNu8E",
    "outputId": "58485a33-857b-40a1-eb21-c5d26f048866"
   },
   "outputs": [
    {
     "name": "stdout",
     "output_type": "stream",
     "text": [
      "True negative : 105819\n",
      "False Positive : 39919\n",
      "False Negative : 4604\n",
      "True Positive : 9013\n"
     ]
    }
   ],
   "source": [
    "knn2_tn_withCost, knn2_fp_withCost, knn2_fn_withCost, knn2_tp_withCost = confusion_matrix(y_test, ypred_knn2_prob_1_withCost).ravel()\n",
    "print(\"True negative :\", knn2_tn_withCost)\n",
    "print(\"False Positive :\", knn2_fp_withCost)\n",
    "print(\"False Negative :\", knn2_fn_withCost)\n",
    "print(\"True Positive :\", knn2_tp_withCost)"
   ]
  },
  {
   "cell_type": "code",
   "execution_count": null,
   "metadata": {
    "id": "oay5tEkfNu8E"
   },
   "outputs": [],
   "source": []
  },
  {
   "cell_type": "markdown",
   "metadata": {
    "id": "5i4U3Lxg9VT2"
   },
   "source": [
    "# Evaluation"
   ]
  },
  {
   "cell_type": "code",
   "execution_count": null,
   "metadata": {},
   "outputs": [],
   "source": [
    "decisiontree_evaluation = [decisiontree_accuracy_score, decisiontree_confusion_matrix, decisiontree_mean_absolute_error,\n",
    "                          decisiontree_tn, decisiontree_fn, decisiontree_fp, decisiontree_tp, \n",
    "                           decisiontree_precision[1], decisiontree_recall[1], \n",
    "                           decisiontree_optimal_threshold, decisiontree_min_cost,\n",
    "                           decisiontree_confusion_matrix_withCost, decisiontree_mae_withCost,\n",
    "                           decisiontree_tn_withCost, decisiontree_fn_withCost, decisiontree_fp_withCost, decisiontree_tp_withCost,\n",
    "                          decisiontree_precision_withCost[1], decisiontree_recall_withCost[1],\n",
    "                           ]\n",
    "\n",
    "logistic_evaluation = [logistic_accuracy_score, logistic_confusion_matrix, logistic_mean_absolute_error,\n",
    "                          logistic_tn, logistic_fn, logistic_fp, logistic_tp, \n",
    "                           logistic_precision[1], logistic_recall[1], \n",
    "                       logistic_optimal_threshold, logistic_min_cost,\n",
    "                       logistic_confusion_matrix_withCost, logistic_mae_withCost,\n",
    "                       logistic_tn_withCost, logistic_fn_withCost, logistic_fp_withCost, logistic_tp_withCost,\n",
    "                          logistic_precision_withCost[1], logistic_recall_withCost[1],\n",
    "                    ]\n",
    "\n",
    "naivebayes_evaluation = [naivebayes_accuracy_score, naivebayes_confusion_matrix, naivebayes_mean_absolute_error,\n",
    "                         naivebayes_tn, naivebayes_fn, naivebayes_fp, naivebayes_tp,\n",
    "                         naivebayes_precision[1], naivebayes_recall[1], \n",
    "                         naivebayes_optimal_threshold, naivebayes_min_cost,\n",
    "                         naivebayes_confusion_matrix_withCost, naivebayes_mae_withCost,\n",
    "                         naivebayes_tn_withCost, naivebayes_fn_withCost, naivebayes_fp_withCost, naivebayes_tp_withCost,\n",
    "                         naivebayes_precision_withCost[1], naivebayes_recall_withCost[1]]\n",
    "\n",
    "knn2_evaluation = [knn2_accuracy_score, knn2_confusion_matrix, knn2_mean_absolute_error,\n",
    "                         knn2_tn, knn2_fn, knn2_fp, knn2_tp,\n",
    "                         knn2_precision[1], knn2_recall[1], \n",
    "                         knn2_optimal_threshold, knn2_min_cost,\n",
    "                         knn2_confusion_matrix_withCost, knn2_mae_withCost,\n",
    "                         knn2_tn_withCost, knn2_fn_withCost, knn2_fp_withCost, knn2_tp_withCost,\n",
    "                         knn2_precision_withCost[1], knn2_recall_withCost[1]]\n",
    "\n",
    "evaluation_tool = [\"Accuracy\", \"Confusion Matrix\", \"MAE\",\n",
    "                   \"True Negative\", \"False Negative\", \"False Positive\", \"True Positive\", \n",
    "                   \"Precision\", \"Recall\", \n",
    "                   \"Optimal Threshold\", \"Min Cost\",\n",
    "                   \"Confusion Matrix with cost\", \"MAE with cost\",\n",
    "                   \"True Negative with cost\", \"False Negative with cost\", \"False Positive with cost\", \"True Positive with cost\", \n",
    "                   \"Precision with cost\", \"Recall with cost\"]\n",
    "\n",
    "evaluation_table = pd.DataFrame({\"Decision Tree\": decisiontree_evaluation, \"Logistic Regression\": logistic_evaluation, \"Naive Bayes\": naivebayes_evaluation, \n",
    "                                  \"K-nearest Neighbour 2\": knn2_evaluation}, index=evaluation_tool)"
   ]
  }
 ],
 "metadata": {
  "colab": {
   "provenance": []
  },
  "kernelspec": {
   "display_name": "Python 3",
   "language": "python",
   "name": "python3"
  },
  "language_info": {
   "codemirror_mode": {
    "name": "ipython",
    "version": 3
   },
   "file_extension": ".py",
   "mimetype": "text/x-python",
   "name": "python",
   "nbconvert_exporter": "python",
   "pygments_lexer": "ipython3",
   "version": "3.8.5"
  }
 },
 "nbformat": 4,
 "nbformat_minor": 1
}
